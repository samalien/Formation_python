{
 "cells": [
  {
   "cell_type": "markdown",
   "id": "ada38cd1-6d00-4824-a4f7-4f7c28726793",
   "metadata": {},
   "source": [
    "# structures conditionnelles"
   ]
  },
  {
   "cell_type": "markdown",
   "id": "b69dd4fa-4508-44f9-89ff-333ffdefd976",
   "metadata": {},
   "source": [
    "###  La conditionnelle Si ... Alors ..."
   ]
  },
  {
   "cell_type": "markdown",
   "id": "039d97fa-601d-4ee9-a0d3-102e87503e59",
   "metadata": {},
   "source": [
    "La conditionnelle permet d’exécuter une séquence d’instruction, seulement si une condition est vraie."
   ]
  },
  {
   "cell_type": "raw",
   "id": "df8a4454-e274-44f1-9f4b-b7a2a66291e8",
   "metadata": {},
   "source": [
    "if condition:\n",
    "    sequence\n",
    "suite"
   ]
  },
  {
   "cell_type": "markdown",
   "id": "4de9df59-5b93-4fb3-84ee-6b2fa4e67052",
   "metadata": {},
   "source": [
    "La condition est nécessairement une expression booléenne."
   ]
  },
  {
   "cell_type": "markdown",
   "id": "40dcaf24-abee-49b9-a69d-a630df7646dd",
   "metadata": {},
   "source": [
    "Évaluation :\n",
    "<ul>\n",
    "<li>la condition est évaluée;\n",
    "<li>si la condition est vraie, la séquence est exécutée puis le contrôle passe à la suite;\n",
    "<li>si la condition est fausse, le contrôle passe à la suite, sans exécuter la séquence."
   ]
  },
  {
   "cell_type": "markdown",
   "id": "bf28810c-6bed-4910-974b-6b2498feb2de",
   "metadata": {},
   "source": [
    "<p style=\"text-align:center\"><img src=\"assets/Organigramme-SiAlors.png\" /></p>"
   ]
  },
  {
   "cell_type": "code",
   "execution_count": 2,
   "id": "5ac5084c-bc6f-4088-86ee-39df80706abc",
   "metadata": {
    "tags": []
   },
   "outputs": [
    {
     "name": "stdout",
     "output_type": "stream",
     "text": [
      "Bonjour !\n"
     ]
    }
   ],
   "source": [
    "nombre = 5\n",
    "if nombre >= 0:\n",
    "    print('Bonjour !')"
   ]
  },
  {
   "cell_type": "markdown",
   "id": "21fbecc1-0232-46ec-96eb-bb2d23dd2d61",
   "metadata": {
    "tags": []
   },
   "source": [
    "##### Exercice: \n",
    "Ecrire un programme qui calcule la salaire d'un employé,\n",
    "<ul>\n",
    "<li>salaire net = salaire brut - impots\n",
    "<li>salaire brut = salaire de base + indemnités\n",
    "<li>indemnités = prime de transport + prime de risque\n",
    "<li>seules les ingénieurs bénéficies d'une prime de technicité = 500 dinars\n",
    "    </ul>"
   ]
  },
  {
   "cell_type": "markdown",
   "id": "83e0f827-26c6-4879-b901-c9906a4cbdaa",
   "metadata": {},
   "source": [
    "### La conditionnelle Si ... Alors ... Sinon ..."
   ]
  },
  {
   "cell_type": "markdown",
   "id": "e5554f1c-b9fa-4607-8aad-e0c4835393c8",
   "metadata": {},
   "source": [
    "La conditionnelle Si...Alors...Sinon... permet de poser une alternative."
   ]
  },
  {
   "cell_type": "raw",
   "id": "59e83c61-7c7b-4be1-97bc-b5f26805d85d",
   "metadata": {},
   "source": [
    "if condition:\n",
    "    sequence1\n",
    "else:\n",
    "    sequence2\n",
    "suite"
   ]
  },
  {
   "cell_type": "markdown",
   "id": "a078ab02-c4ae-46fc-a950-a013a0eccb16",
   "metadata": {},
   "source": [
    "Si la condition est vraie, c’est la séquence1 qui sera exécutée, sinon c’est la séquence2 qui sera exécutée. Dans tous les cas, l’exécution continuera à suite."
   ]
  },
  {
   "cell_type": "markdown",
   "id": "e4e64326-619f-46c9-9c3b-e53b30cb1362",
   "metadata": {},
   "source": [
    "<img src=\"assets/Organigramme-SiSinon.png\" />"
   ]
  }
 ],
 "metadata": {
  "kernelspec": {
   "display_name": "Python 3",
   "language": "python",
   "name": "python3"
  },
  "language_info": {
   "codemirror_mode": {
    "name": "ipython",
    "version": 3
   },
   "file_extension": ".py",
   "mimetype": "text/x-python",
   "name": "python",
   "nbconvert_exporter": "python",
   "pygments_lexer": "ipython3",
   "version": "3.8.8"
  }
 },
 "nbformat": 4,
 "nbformat_minor": 5
}
