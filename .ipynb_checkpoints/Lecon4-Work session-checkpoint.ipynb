{
 "cells": [
  {
   "cell_type": "markdown",
   "id": "5071907f-e146-4ffd-b389-8e82c10e9a5d",
   "metadata": {},
   "source": [
    "# Exercices "
   ]
  },
  {
   "cell_type": "markdown",
   "id": "61aaeb63-6962-44e9-aedf-ed778945213a",
   "metadata": {
    "tags": []
   },
   "source": [
    "### Exericice 1\n",
    "Ecrire un programme qui permet de saisir un nombre puis déterminer s’il appartient à un intervalle donné, sachant que les extrémités de l’intervalle sont fixées par l’utilisateur."
   ]
  },
  {
   "cell_type": "code",
   "execution_count": 3,
   "id": "16070cb1-aa86-4fd5-a516-bfbbe90017a6",
   "metadata": {
    "tags": []
   },
   "outputs": [],
   "source": [
    "# Solution exercice 1"
   ]
  },
  {
   "cell_type": "markdown",
   "id": "075c00f0-9690-4f43-b972-945952c6af23",
   "metadata": {
    "tags": []
   },
   "source": [
    "### Exericice 2\n",
    "Ecrire un programme qui demande deux nombres à l’utilisateur et l’informe ensuite si leur produit est négatif ou positif. Attention toutefois on ne doit pas calculer le produit des deux nombres."
   ]
  },
  {
   "cell_type": "code",
   "execution_count": 3,
   "id": "086b92c8-3b73-4762-86ab-36df4c1a7daf",
   "metadata": {
    "tags": []
   },
   "outputs": [],
   "source": [
    "# Solution exercice 2"
   ]
  },
  {
   "cell_type": "markdown",
   "id": "de9817e8-afa2-4bb7-9d01-978691c7e420",
   "metadata": {
    "tags": []
   },
   "source": [
    "### Exericice 3\n",
    "Ecrire un programme qui permet de calculer le montant des heures supplémentaires d’un employé, sachant le prix unitaire d’une heure,  selon le barème suivant :\n",
    "\n",
    " <ul>\n",
    "<li>Les 39 premières heures sans supplément,\n",
    "<li> De la 40ième à la 44ième heure sont majorées de 50%,\n",
    "<li>De la 45ième à la 49ième heure sont majorées de 75%,\n",
    "<li>De la 50ième heure ou plus, sont majorées de 100%.\n",
    "    </ul>"
   ]
  },
  {
   "cell_type": "code",
   "execution_count": 4,
   "id": "559bd146-57be-44de-8ae2-a8af4096acd7",
   "metadata": {
    "tags": []
   },
   "outputs": [],
   "source": [
    "# Solution exercice 3"
   ]
  },
  {
   "cell_type": "markdown",
   "id": "d372e695-3cc6-4b57-bd47-1a5651963d4f",
   "metadata": {
    "tags": []
   },
   "source": [
    "### Exericice 5\n",
    "Ecrivez un programme qui lira au clavier l’heure, les minutes et les secondes, et il affichera l’heure qu’il sera une seconde plus tard.\n",
    "Par exemple, si l'utilisateur tape 21 puis 32 puis  35, le programme doit répondre : \"Dans une seconde, il sera 21 heure(s) 32 36 secondes\".\n",
    "NB : on suppose que l'utilisateur entre une heure valide. Pas besoin donc de la vérifier."
   ]
  },
  {
   "cell_type": "code",
   "execution_count": 10,
   "id": "12cbc846-c8c2-45d0-a554-ad9c10166bca",
   "metadata": {
    "tags": []
   },
   "outputs": [],
   "source": [
    "# Solution exercice 5"
   ]
  }
 ],
 "metadata": {
  "kernelspec": {
   "display_name": "Python 3",
   "language": "python",
   "name": "python3"
  },
  "language_info": {
   "codemirror_mode": {
    "name": "ipython",
    "version": 3
   },
   "file_extension": ".py",
   "mimetype": "text/x-python",
   "name": "python",
   "nbconvert_exporter": "python",
   "pygments_lexer": "ipython3",
   "version": "3.8.8"
  }
 },
 "nbformat": 4,
 "nbformat_minor": 5
}
