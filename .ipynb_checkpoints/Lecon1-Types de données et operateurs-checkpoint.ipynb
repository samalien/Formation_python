{
 "cells": [
  {
   "cell_type": "code",
   "execution_count": 1,
   "id": "d189f9ef-4d92-4192-980e-ac9ccfbc8fe1",
   "metadata": {
    "jupyter": {
     "source_hidden": true
    },
    "tags": []
   },
   "outputs": [],
   "source": [
    "from fonctions import *"
   ]
  },
  {
   "cell_type": "markdown",
   "id": "1c9a3c67-62b7-4a22-9c55-6b0e60ae319f",
   "metadata": {
    "tags": []
   },
   "source": [
    "# Types de données et opérateurs"
   ]
  },
  {
   "cell_type": "markdown",
   "id": "fadfb07a-0266-463c-94e1-1584aaa96314",
   "metadata": {
    "tags": []
   },
   "source": [
    "## opérateurs arithmétiques"
   ]
  },
  {
   "cell_type": "markdown",
   "id": "d81e5581-62b8-4195-b5a3-18b210bf2082",
   "metadata": {
    "tags": []
   },
   "source": [
    "<span style=\" border:1px solid black\">&nbsp;+&nbsp;</span> Addition<br/>\n",
    "<span style=\" border:1px solid black\">&nbsp;-&nbsp; </span> Subtraction<br/>\n",
    "<span style=\" border:1px solid black\">&nbsp;*&nbsp; </span> Multiplication<br/>\n",
    "<span style=\" border:1px solid black\">&nbsp;/&nbsp; </span> Division<br/>\n",
    "<span style=\" border:1px solid black\">&nbsp;%&nbsp;</span> Mod (le reste de la division)<br/>\n",
    "<span style=\" border:1px solid black\">&nbsp;**&nbsp;</span> puissance <br/>\n",
    "<span style=\" border:1px solid black\">&nbsp;//&nbsp;</span> le quotient de la division entiere<br/>"
   ]
  },
  {
   "cell_type": "markdown",
   "id": "e1581ce5-cbca-450c-8d5c-f39c3db5ae37",
   "metadata": {},
   "source": [
    "### Quiz 1"
   ]
  },
  {
   "cell_type": "markdown",
   "id": "a2eca2c5-6e88-4165-bf59-e16c6a75b6dd",
   "metadata": {
    "tags": []
   },
   "source": [
    "Il est temps d'essayer un calcul en Python !\n",
    "\n",
    "Mes factures d'électricité pour les trois derniers mois ont été de 23 $, 32 $ et 64 $. Quelle est la facture d'électricité mensuelle moyenne sur la période de trois mois ? Écrivez une expression pour calculer la moyenne et utilisez-la print()pour afficher le résultat."
   ]
  },
  {
   "cell_type": "code",
   "execution_count": 2,
   "id": "7d3f433d-074a-4f68-9865-5a65486980be",
   "metadata": {
    "tags": []
   },
   "outputs": [
    {
     "name": "stdout",
     "output_type": "stream",
     "text": [
      "\n"
     ]
    }
   ],
   "source": [
    "# Ecrire une expression qui calcule la moyenn de  23, 32 and 64\n",
    "# Placez l'expression dans cette instruction print\n",
    "print()"
   ]
  },
  {
   "cell_type": "markdown",
   "id": "0efdae15-1af6-4f3e-9f60-fec8e2a8b62a",
   "metadata": {},
   "source": [
    "### Quiz 2"
   ]
  },
  {
   "cell_type": "markdown",
   "id": "7b3ef18c-bc72-48ce-b959-43aa9c388966",
   "metadata": {
    "tags": []
   },
   "source": [
    "Dans ce quiz, vous allez faire quelques calculs pour un carreleur. Deux parties d'un sol ont besoin de carrelage. Une partie mesure 9 carreaux de large sur 7 carreaux de long , l'autre mesure 5 carreaux de large sur 7 carreaux de long . Les tuiles sont livrées en paquets de 6.\n",
    "<ol>\n",
    "    <li>Combien de tuiles sont nécessaires ?\n",
    "    <li>Vous achetez 17 paquets de tuiles contenant 6 tuiles chacun . Combien de tuiles restera-t-il ?\n",
    "</ol>"
   ]
  },
  {
   "cell_type": "code",
   "execution_count": 3,
   "id": "0f87b9ca-3d7f-4d30-9076-d4576570802e",
   "metadata": {
    "tags": []
   },
   "outputs": [
    {
     "name": "stdout",
     "output_type": "stream",
     "text": [
      "\n",
      "\n"
     ]
    }
   ],
   "source": [
    "# Remplissez ceci avec une expression qui calcule combien de tuiles sont nécessaires\n",
    "print()\n",
    "\n",
    "# Remplissez-le avec une expression qui calcule le nombre de tuiles restantes.\n",
    "print()"
   ]
  },
  {
   "cell_type": "markdown",
   "id": "845b0fe8-d818-4429-92a9-2b89ce56aa4c",
   "metadata": {},
   "source": [
    "### Quiz 3"
   ]
  },
  {
   "cell_type": "code",
   "execution_count": 4,
   "id": "6ae73f7c-3b8d-4ae4-9830-ebd3f0a12049",
   "metadata": {
    "tags": []
   },
   "outputs": [],
   "source": [
    "# Écrivez un programme Python qui affiche le nombre de minutes en sept semaines.\n",
    "# Souvenez-vous : 7 semaines 7 jours par semaine, 24 heures par jour et 60 minutes par heure.\n",
    "# Multiplier ces nombres ensemble vous donnera le résultat"
   ]
  },
  {
   "cell_type": "markdown",
   "id": "285256ae-5cc6-4d62-bd82-516ff7b1a3d2",
   "metadata": {},
   "source": [
    "### Quiz 4"
   ]
  },
  {
   "cell_type": "markdown",
   "id": "eaa0f17f-e9cc-4ec9-927a-cbe948ff2c79",
   "metadata": {
    "tags": []
   },
   "source": [
    "Lesquelles de ces lignes de code Python sont bien formatées ? Comment amélioreriez-vous la lisibilité des codes qui n'utilisent pas un bon formatage ? (Choisissez tout ce qui correspond)"
   ]
  },
  {
   "cell_type": "code",
   "execution_count": 5,
   "id": "4d33661f-3cd3-4f57-ac68-55b5b6acbec2",
   "metadata": {
    "tags": []
   },
   "outputs": [
    {
     "data": {
      "application/vnd.jupyter.widget-view+json": {
       "model_id": "ff4e98ddd9c84f698b0093f1dc4a9aa8",
       "version_major": 2,
       "version_minor": 0
      },
      "text/plain": [
       "VBox(children=(Output(), RadioButtons(options=(('Correct', 0), ('Incorrect', 1)), value=0), Button(description…"
      ]
     },
     "metadata": {},
     "output_type": "display_data"
    },
    {
     "data": {
      "application/vnd.jupyter.widget-view+json": {
       "model_id": "e2688cd75ac34a71bb84eeda5adafec3",
       "version_major": 2,
       "version_minor": 0
      },
      "text/plain": [
       "VBox(children=(Output(), RadioButtons(options=(('Correct', 0), ('Incorrect', 1)), value=0), Button(description…"
      ]
     },
     "metadata": {},
     "output_type": "display_data"
    },
    {
     "data": {
      "application/vnd.jupyter.widget-view+json": {
       "model_id": "a9b7140b42c64f8a8a0e127c1c0e1484",
       "version_major": 2,
       "version_minor": 0
      },
      "text/plain": [
       "VBox(children=(Output(), RadioButtons(options=(('Correct', 0), ('Incorrect', 1)), value=0), Button(description…"
      ]
     },
     "metadata": {},
     "output_type": "display_data"
    }
   ],
   "source": [
    "display(Q1)\n",
    "display(Q2)\n",
    "display(Q3)"
   ]
  },
  {
   "cell_type": "code",
   "execution_count": 6,
   "id": "b7f46726-1953-47e7-b830-a54dd6d96e64",
   "metadata": {
    "tags": []
   },
   "outputs": [],
   "source": [
    "# Écrivez du code Python pour afficher la distance parcourue par la lumière\n",
    "# en centimètres en une nanoseconde. Utiliser les valeurs\n",
    "# défini ci-dessous.\n",
    "# speed_of_light = 299792458 mètres par seconde\n",
    "# centimètres = 100 un mètre équivaut à 100 centimètres\n",
    "# nanoseconde = 1.0/1000000000 un milliardième de seconde"
   ]
  },
  {
   "cell_type": "markdown",
   "id": "5a3522e5-18c6-40c4-85ba-1e950dacf387",
   "metadata": {},
   "source": [
    "### Variables"
   ]
  },
  {
   "cell_type": "markdown",
   "id": "41ec6341-8fff-49e4-bcd1-45879f46bef8",
   "metadata": {
    "tags": []
   },
   "source": [
    "Les variables sont utilisées tout le temps en Python ! Vous trouverez ci-dessous un exemple où nous avons effectué les opérations suivantes :\n",
    "\n",
    "<span style=\" border:1px solid black\">mv_population = 74728</span>\n",
    "\n",
    "Voici <span style=\" border:1px solid black\">mv_population</span> une variable, qui contient la valeur de 74728. Cela affecte l'élément de droite au nom de gauche, ce qui est en fait un peu différent de l'égalité mathématique, car 74728 ne contient pas la valeur de <span style=\" border:1px solid black\">mv_population</span> .\n",
    "\n",
    "Dans tous les cas, quel que soit le terme qui se trouve sur le côté gauche, est maintenant un nom pour toute valeur se trouvant sur le côté droit. <b><u>Une fois qu'une valeur a été affectée à un nom de variable, vous pouvez accéder à la valeur à partir du nom de variable</u></b>."
   ]
  },
  {
   "cell_type": "markdown",
   "id": "b6825371-767a-4711-b377-a288d28781d3",
   "metadata": {},
   "source": [
    "les deux suivants sont équivalents en termes d'affectation :"
   ]
  },
  {
   "cell_type": "code",
   "execution_count": 7,
   "id": "887fba43-93fe-4c8a-98fa-37007a7f4770",
   "metadata": {},
   "outputs": [],
   "source": [
    "x = 3\n",
    "y = 4\n",
    "z = 5"
   ]
  },
  {
   "cell_type": "code",
   "execution_count": 8,
   "id": "a43b1868-13b5-419c-9368-f5c8fa425043",
   "metadata": {},
   "outputs": [],
   "source": [
    "x, y, z = 3, 4, 5"
   ]
  },
  {
   "cell_type": "markdown",
   "id": "2e7a6b35-2869-4836-8cd1-677f2e40816f",
   "metadata": {},
   "source": [
    "Cependant, ce qui précède n'est pas un excellent moyen d'affecter des variables dans la plupart des cas, car nos noms de variables doivent être descriptifs des valeurs qu'elles contiennent.\n",
    "\n",
    "Outre l'écriture de noms de variables descriptifs, il y a quelques points à surveiller lors de la désignation de variables en Python.\n",
    "\n",
    "1. N'utilisez que des lettres ordinaires, des chiffres et des traits de soulignement dans vos noms de variables. Ils ne peuvent pas contenir d'espaces et doivent commencer par une lettre ou un trait de soulignement.\n",
    "\n",
    "2. Vous ne pouvez pas utiliser les mots réservés de Python , ou \"mots-clés\", comme noms de variables. Il existe des mots réservés dans chaque langage de programmation qui ont des objectifs importants, et vous en apprendrez certains tout au long de ce cours. La création de noms descriptifs des valeurs vous aidera souvent à éviter d'utiliser l'un de ces mots-clés.\n",
    "\n",
    "3. La façon pythonique de nommer les variables consiste à utiliser toutes les lettres minuscules et les traits de soulignement pour séparer les mots."
   ]
  },
  {
   "cell_type": "markdown",
   "id": "52263082-e324-4b3a-b25f-bcd13a93683f",
   "metadata": {},
   "source": [
    "<strong>OUI</strong>"
   ]
  },
  {
   "cell_type": "raw",
   "id": "e6023247-6e8f-4cbf-a7bf-885930bea256",
   "metadata": {},
   "source": [
    "my_height = 58\n",
    "my_lat = 40\n",
    "my_long = 105"
   ]
  },
  {
   "cell_type": "markdown",
   "id": "b1c72ed6-7508-45ca-9dc2-8ac346554fa8",
   "metadata": {},
   "source": [
    "<strong>NON</strong>"
   ]
  },
  {
   "cell_type": "raw",
   "id": "dfaa5eaf-03b3-4fb5-925e-250364e76284",
   "metadata": {},
   "source": [
    "my height = 58\n",
    "MYLONG = 40\n",
    "MyLat = 105"
   ]
  },
  {
   "cell_type": "markdown",
   "id": "9712e4bd-90d9-4397-b2a4-5723b20ac5dd",
   "metadata": {},
   "source": [
    "### Quiz 5"
   ]
  },
  {
   "cell_type": "markdown",
   "id": "0762c388-2a0f-4aab-8a92-c11c6d985718",
   "metadata": {},
   "source": [
    "Comment la modification de la valeur d'une variable affecte-t-elle une autre variable qui a été définie en fonction de celle-ci ? Regardons un exemple."
   ]
  },
  {
   "cell_type": "raw",
   "id": "1c20ec5d-bae9-4c5b-98c9-a2c1e05166ff",
   "metadata": {},
   "source": [
    ">>> carrots = 24\n",
    ">>> rabbits = 8\n",
    ">>> crs_per_rab = carrots/rabbits"
   ]
  },
  {
   "cell_type": "markdown",
   "id": "94043810-8bfc-43aa-b5d5-a087bf13b145",
   "metadata": {},
   "source": [
    "Maintenant, nous ajoutons une nouvelle 4ème ligne à ce code, qui attribue une nouvelle valeur à la variable rabbits  :"
   ]
  },
  {
   "cell_type": "code",
   "execution_count": 9,
   "id": "7e94445a-38b0-442c-b7ce-9e1e5181ac6a",
   "metadata": {
    "tags": []
   },
   "outputs": [],
   "source": [
    ">>> rabbits = 12"
   ]
  },
  {
   "cell_type": "code",
   "execution_count": 10,
   "id": "ca380aa1-bcdd-49b7-9144-22b4f646afe0",
   "metadata": {},
   "outputs": [
    {
     "data": {
      "application/vnd.jupyter.widget-view+json": {
       "model_id": "d70e593cf2d345a5bb409f0fd262589a",
       "version_major": 2,
       "version_minor": 0
      },
      "text/plain": [
       "VBox(children=(Output(), RadioButtons(options=(('0,5', 0), ('2.0', 1), ('3.0', 2), ('Aucune de ces réponses', …"
      ]
     },
     "metadata": {},
     "output_type": "display_data"
    }
   ],
   "source": [
    "display(Q4)"
   ]
  },
  {
   "cell_type": "code",
   "execution_count": 12,
   "id": "f9a1f6be-b56d-4f1e-bf67-8e4b8572ee62",
   "metadata": {
    "jupyter": {
     "source_hidden": true
    },
    "tags": []
   },
   "outputs": [
    {
     "data": {
      "application/vnd.jupyter.widget-view+json": {
       "model_id": "241c566fd939474799e942f03e5e0d67",
       "version_major": 2,
       "version_minor": 0
      },
      "text/plain": [
       "VBox(children=(Checkbox(value=False, description='Question1'), Checkbox(value=False, description='Question2'),…"
      ]
     },
     "metadata": {},
     "output_type": "display_data"
    },
    {
     "data": {
      "application/vnd.jupyter.widget-view+json": {
       "model_id": "f0118366bb4b4d04aa23c0b1eb60f219",
       "version_major": 2,
       "version_minor": 0
      },
      "text/plain": [
       "Output()"
      ]
     },
     "metadata": {},
     "output_type": "display_data"
    },
    {
     "data": {
      "application/vnd.jupyter.widget-view+json": {
       "model_id": "b802591821fd45a98fd079dda864d98a",
       "version_major": 2,
       "version_minor": 0
      },
      "text/plain": [
       "VBox(children=(Button(description='submit', style=ButtonStyle()), Output()))"
      ]
     },
     "metadata": {},
     "output_type": "display_data"
    }
   ],
   "source": [
    "quiz_checkBox()"
   ]
  },
  {
   "cell_type": "code",
   "execution_count": null,
   "id": "87ef2640-b1d3-4567-b2a3-9ef930eabed9",
   "metadata": {},
   "outputs": [],
   "source": []
  }
 ],
 "metadata": {
  "kernelspec": {
   "display_name": "Python 3",
   "language": "python",
   "name": "python3"
  },
  "language_info": {
   "codemirror_mode": {
    "name": "ipython",
    "version": 3
   },
   "file_extension": ".py",
   "mimetype": "text/x-python",
   "name": "python",
   "nbconvert_exporter": "python",
   "pygments_lexer": "ipython3",
   "version": "3.8.8"
  }
 },
 "nbformat": 4,
 "nbformat_minor": 5
}
