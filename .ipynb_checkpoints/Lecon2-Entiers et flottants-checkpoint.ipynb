{
 "cells": [
  {
   "cell_type": "code",
   "execution_count": 1,
   "id": "e68a8a23-8114-4333-af28-fc24381776f8",
   "metadata": {},
   "outputs": [],
   "source": [
    "from fonctions import *"
   ]
  },
  {
   "cell_type": "markdown",
   "id": "1709da7c-7c65-4527-b67e-ff4cd10a23f1",
   "metadata": {},
   "source": [
    "# Entiers et flottants"
   ]
  },
  {
   "cell_type": "markdown",
   "id": "606c4f5b-ba65-4bae-a43a-d488b0befe84",
   "metadata": {},
   "source": [
    "Il existe deux types de données Python qui peuvent être utilisés pour les valeurs numériques :\n",
    "\n",
    "<ul>\n",
    "    <li>int - pour les valeurs entières\n",
    "    <li>float - pour les valeurs décimales ou à virgule flottante\n",
    "</ul>\n",
    "Vous pouvez créer une valeur qui suit le type de données en utilisant la syntaxe suivante :"
   ]
  },
  {
   "cell_type": "code",
   "execution_count": 2,
   "id": "29d0cab0-1061-4d36-b917-d55ab42f1b5d",
   "metadata": {},
   "outputs": [],
   "source": [
    "x = int(4.7)   # x maintenant est un entier 4\n",
    "y = float(4)   # y maintenant est un réel 4.0"
   ]
  },
  {
   "cell_type": "markdown",
   "id": "a6d4d8ac-accc-4462-b8db-dc465352889e",
   "metadata": {},
   "source": [
    "Vous pouvez vérifier le type en utilisant la typefonction :"
   ]
  },
  {
   "cell_type": "code",
   "execution_count": 3,
   "id": "821846be-5a10-4918-a288-192f61821139",
   "metadata": {},
   "outputs": [
    {
     "name": "stdout",
     "output_type": "stream",
     "text": [
      "<class 'int'>\n",
      "<class 'float'>\n"
     ]
    }
   ],
   "source": [
    "print(type(x))\n",
    "print(type(y))"
   ]
  },
  {
   "cell_type": "markdown",
   "id": "947a72df-75d0-410f-b597-51db7d2f61b0",
   "metadata": {},
   "source": [
    "Étant donné que le flottant, ou approximation, pour 0,1 est en fait légèrement supérieur à 0,1"
   ]
  },
  {
   "cell_type": "markdown",
   "id": "cd95145a-e3a4-48f9-9063-63e0f2461f48",
   "metadata": {},
   "source": [
    "### Quiz 1"
   ]
  },
  {
   "cell_type": "markdown",
   "id": "52d8f456-1106-4504-9062-ad59f5de7451",
   "metadata": {},
   "source": [
    "Dans la situation de poisson ci-dessous, certaines des quantités sont de type int et d'autres de type float. Cochez toutes celles qui devraient être de type float."
   ]
  },
  {
   "cell_type": "code",
   "execution_count": 4,
   "id": "71ef10d8-9af5-4d75-b80c-01f2210d0137",
   "metadata": {},
   "outputs": [
    {
     "data": {
      "application/vnd.jupyter.widget-view+json": {
       "model_id": "34122c56350a4a66b6da411a79fca7cc",
       "version_major": 2,
       "version_minor": 0
      },
      "text/plain": [
       "VBox(children=(Checkbox(value=False, description='Combien de personnes sont venues lors de votre voyage de pêc…"
      ]
     },
     "metadata": {},
     "output_type": "display_data"
    },
    {
     "data": {
      "application/vnd.jupyter.widget-view+json": {
       "model_id": "a73d6e48f0374371a7e95fd316483948",
       "version_major": 2,
       "version_minor": 0
      },
      "text/plain": [
       "Output()"
      ]
     },
     "metadata": {},
     "output_type": "display_data"
    },
    {
     "data": {
      "application/vnd.jupyter.widget-view+json": {
       "model_id": "1e93afcfe5214aa1af2472505de4708c",
       "version_major": 2,
       "version_minor": 0
      },
      "text/plain": [
       "VBox(children=(Button(description='submit', style=ButtonStyle()), Output()))"
      ]
     },
     "metadata": {},
     "output_type": "display_data"
    }
   ],
   "source": [
    "quiz_checkBox(data2, responses2)"
   ]
  },
  {
   "cell_type": "markdown",
   "id": "ada8c52d-c056-4ab0-a787-91cd38fc27a7",
   "metadata": {},
   "source": [
    "### Diviser par zéro?"
   ]
  },
  {
   "cell_type": "markdown",
   "id": "59cb2ce8-c6ce-4121-95f6-1476be9a503f",
   "metadata": {},
   "source": [
    "Que se passe-t-il si vous divisez par zéro en Python ? Essaye le! Testez ce code et voyez ce qui se passe."
   ]
  },
  {
   "cell_type": "code",
   "execution_count": 5,
   "id": "9f81abff-7724-4779-b388-4605f92cd87c",
   "metadata": {
    "tags": []
   },
   "outputs": [
    {
     "ename": "ZeroDivisionError",
     "evalue": "division by zero",
     "output_type": "error",
     "traceback": [
      "\u001b[1;31m---------------------------------------------------------------------------\u001b[0m",
      "\u001b[1;31mZeroDivisionError\u001b[0m                         Traceback (most recent call last)",
      "\u001b[1;32m<ipython-input-5-fad870a50e27>\u001b[0m in \u001b[0;36m<module>\u001b[1;34m\u001b[0m\n\u001b[1;32m----> 1\u001b[1;33m \u001b[0mprint\u001b[0m\u001b[1;33m(\u001b[0m\u001b[1;36m5\u001b[0m\u001b[1;33m/\u001b[0m\u001b[1;36m0\u001b[0m\u001b[1;33m)\u001b[0m\u001b[1;33m\u001b[0m\u001b[1;33m\u001b[0m\u001b[0m\n\u001b[0m",
      "\u001b[1;31mZeroDivisionError\u001b[0m: division by zero"
     ]
    }
   ],
   "source": [
    "print(5/0)"
   ]
  },
  {
   "cell_type": "markdown",
   "id": "27fe4a78-41cf-4c21-8017-7b411434523e",
   "metadata": {},
   "source": [
    "En général, il y a deux types d'erreurs à surveiller\n",
    "\n",
    "<ul>\n",
    "    <li>Exceptions\n",
    "    <li>Syntaxe\n",
    "</ul>"
   ]
  },
  {
   "cell_type": "markdown",
   "id": "b07658ac-dc14-41d0-aa75-31021fd8d3c3",
   "metadata": {},
   "source": [
    "## Le Type booléen"
   ]
  },
  {
   "cell_type": "markdown",
   "id": "166f0e11-ea35-40cb-b806-91a3b11ebad5",
   "metadata": {},
   "source": [
    "Le type de données bool contient l'une des valeurs Trueou False, qui sont souvent codées comme 1ou 0, respectivement.\n",
    "\n",
    "Il y a 6 opérateurs de comparaison qui sont communs à voir pour obtenir une bool valeur :"
   ]
  },
  {
   "cell_type": "markdown",
   "id": "68887d6d-917e-4435-9b62-b164c75cc9cf",
   "metadata": {},
   "source": [
    "#### Opérateurs de comparaison"
   ]
  },
  {
   "cell_type": "markdown",
   "id": "758d750d-8093-485d-9740-a46dda65cfca",
   "metadata": {},
   "source": [
    "<img src=\"assets\\comparaison.png\" />"
   ]
  },
  {
   "cell_type": "markdown",
   "id": "addc687b-7927-423b-9f4d-357c30c615c7",
   "metadata": {},
   "source": [
    "Et il y a trois opérateurs logiques avec lesquels vous devez vous familiariser :"
   ]
  },
  {
   "cell_type": "markdown",
   "id": "d6d1a013-83de-4ae8-8fcb-52fa1fcd3e3e",
   "metadata": {},
   "source": [
    "<img src=\"assets\\logique.png\" />"
   ]
  },
  {
   "cell_type": "markdown",
   "id": "71783962-8148-4e04-a247-cc8c6874aca0",
   "metadata": {},
   "source": [
    "#### Quiz : qu'est-ce qui est le plus dense, Rio ou San Francisco ?"
   ]
  },
  {
   "cell_type": "markdown",
   "id": "2dd38907-2cfa-4871-8fb8-eebe69d156c1",
   "metadata": {
    "tags": []
   },
   "source": [
    "Essayez les opérateurs de comparaison dans ce quiz ! Ce code calcule les densités de population de Rio de Janeiro et de San Francisco.\n",
    "\n",
    "Écrivez du code pour comparer ces densités. La population de San Francisco est-elle plus dense que celle de Rio de Janeiro ? Imprimez True si c'est le  cas et False sinon."
   ]
  },
  {
   "cell_type": "code",
   "execution_count": 11,
   "id": "ea446424-481d-4d3d-8487-d868e4d06370",
   "metadata": {},
   "outputs": [],
   "source": [
    "sf_population, sf_area = 864816, 231.89\n",
    "rio_population, rio_area = 6453682, 486.5\n",
    "\n",
    "san_francisco_pop_density = sf_population/sf_area\n",
    "rio_de_janeiro_pop_density = rio_population/rio_area\n",
    "\n",
    "# Write code that prints True if San Francisco is denser than Rio, and False othe"
   ]
  },
  {
   "cell_type": "markdown",
   "id": "caba1763-51e1-4fa6-947c-8545b347afc5",
   "metadata": {},
   "source": [
    "#### Quiz "
   ]
  },
  {
   "cell_type": "markdown",
   "id": "a39058b6-29c9-483f-9392-ae00e966c12b",
   "metadata": {
    "tags": []
   },
   "source": [
    "Pourquoi pensez-vous que Python utilise ==pour vérifier l'égalité plutôt que =?"
   ]
  },
  {
   "cell_type": "code",
   "execution_count": 12,
   "id": "c9a102fd-1d6a-46b2-858d-2c77ef2fcd42",
   "metadata": {},
   "outputs": [
    {
     "ename": "NameError",
     "evalue": "name 'data3' is not defined",
     "output_type": "error",
     "traceback": [
      "\u001b[1;31m---------------------------------------------------------------------------\u001b[0m",
      "\u001b[1;31mNameError\u001b[0m                                 Traceback (most recent call last)",
      "\u001b[1;32m<ipython-input-12-b691dc8cb6fa>\u001b[0m in \u001b[0;36m<module>\u001b[1;34m\u001b[0m\n\u001b[1;32m----> 1\u001b[1;33m \u001b[0mquiz_checkBox\u001b[0m\u001b[1;33m(\u001b[0m\u001b[0mdata3\u001b[0m\u001b[1;33m,\u001b[0m\u001b[0mresponses3\u001b[0m\u001b[1;33m)\u001b[0m\u001b[1;33m\u001b[0m\u001b[1;33m\u001b[0m\u001b[0m\n\u001b[0m",
      "\u001b[1;31mNameError\u001b[0m: name 'data3' is not defined"
     ]
    }
   ],
   "source": [
    "quiz_checkBox(data3,responses3)"
   ]
  }
 ],
 "metadata": {
  "kernelspec": {
   "display_name": "Python 3",
   "language": "python",
   "name": "python3"
  },
  "language_info": {
   "codemirror_mode": {
    "name": "ipython",
    "version": 3
   },
   "file_extension": ".py",
   "mimetype": "text/x-python",
   "name": "python",
   "nbconvert_exporter": "python",
   "pygments_lexer": "ipython3",
   "version": "3.8.8"
  }
 },
 "nbformat": 4,
 "nbformat_minor": 5
}
