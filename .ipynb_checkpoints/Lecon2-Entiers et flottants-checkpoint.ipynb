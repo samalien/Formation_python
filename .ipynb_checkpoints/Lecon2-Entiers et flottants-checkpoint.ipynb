{
 "cells": [
  {
   "cell_type": "code",
   "execution_count": 1,
   "id": "f7b16434",
   "metadata": {
    "tags": []
   },
   "outputs": [],
   "source": [
    "from fonctions import *"
   ]
  },
  {
   "cell_type": "markdown",
   "id": "07868e7c",
   "metadata": {
    "tags": []
   },
   "source": [
    "# Entiers et flottants"
   ]
  },
  {
   "cell_type": "markdown",
   "id": "d51c4ea1",
   "metadata": {},
   "source": [
    "Il existe deux types de données Python qui peuvent être utilisés pour les valeurs numériques :\n",
    "\n",
    "<ul>\n",
    "    <li>int - pour les valeurs entières\n",
    "    <li>float - pour les valeurs décimales ou à virgule flottante\n",
    "</ul>\n",
    "Vous pouvez créer une valeur qui suit le type de données en utilisant la syntaxe suivante :"
   ]
  },
  {
   "cell_type": "code",
   "execution_count": 8,
   "id": "deb018c2",
   "metadata": {},
   "outputs": [],
   "source": [
    "x = int(4.7)   # x maintenant est un entier 4\n",
    "y = float(4)   # y maintenant est un réel 4.0"
   ]
  },
  {
   "cell_type": "markdown",
   "id": "4c18a440",
   "metadata": {},
   "source": [
    "Vous pouvez vérifier le type en utilisant la typefonction :"
   ]
  },
  {
   "cell_type": "code",
   "execution_count": 3,
   "id": "45229fc9",
   "metadata": {},
   "outputs": [
    {
     "name": "stdout",
     "output_type": "stream",
     "text": [
      "<class 'int'>\n",
      "<class 'float'>\n"
     ]
    }
   ],
   "source": [
    "print(type(x))\n",
    "print(type(y))"
   ]
  },
  {
   "cell_type": "markdown",
   "id": "56b0ed6b",
   "metadata": {},
   "source": [
    "Étant donné que le flottant, ou approximation, pour 0,1 est en fait légèrement supérieur à 0,1"
   ]
  },
  {
   "cell_type": "markdown",
   "id": "1c7c842e",
   "metadata": {},
   "source": [
    "### <span style=\"color:red\">Quiz 1</span>"
   ]
  },
  {
   "cell_type": "markdown",
   "id": "32ed3475",
   "metadata": {},
   "source": [
    "Dans la situation de poisson ci-dessous, certaines des quantités sont de type int et d'autres de type float. Cochez toutes celles qui devraient être de type float."
   ]
  },
  {
   "cell_type": "code",
   "execution_count": 9,
   "id": "fceddb43",
   "metadata": {},
   "outputs": [
    {
     "data": {
      "application/vnd.jupyter.widget-view+json": {
       "model_id": "681bfc86cbf64537ad3861573aa27e9f",
       "version_major": 2,
       "version_minor": 0
      },
      "text/plain": [
       "VBox(children=(Checkbox(value=False, description='Combien de personnes sont venues lors de votre voyage de pêc…"
      ]
     },
     "metadata": {},
     "output_type": "display_data"
    },
    {
     "data": {
      "application/vnd.jupyter.widget-view+json": {
       "model_id": "af7f52a308bf435e9654e789dc66917c",
       "version_major": 2,
       "version_minor": 0
      },
      "text/plain": [
       "Output()"
      ]
     },
     "metadata": {},
     "output_type": "display_data"
    },
    {
     "data": {
      "application/vnd.jupyter.widget-view+json": {
       "model_id": "1f4bdc492fc941749640b4526f98273e",
       "version_major": 2,
       "version_minor": 0
      },
      "text/plain": [
       "VBox(children=(Button(description='submit', style=ButtonStyle()), Output()))"
      ]
     },
     "metadata": {},
     "output_type": "display_data"
    }
   ],
   "source": [
    "quiz_checkBox(data2, responses2)"
   ]
  },
  {
   "cell_type": "markdown",
   "id": "07d9b170",
   "metadata": {},
   "source": [
    "### Diviser par zéro?"
   ]
  },
  {
   "cell_type": "markdown",
   "id": "c6d547b2",
   "metadata": {},
   "source": [
    "Que se passe-t-il si vous divisez par zéro en Python ? Essaye le! Testez ce code et voyez ce qui se passe."
   ]
  },
  {
   "cell_type": "code",
   "execution_count": 5,
   "id": "d1c5cd68",
   "metadata": {
    "tags": []
   },
   "outputs": [
    {
     "ename": "ZeroDivisionError",
     "evalue": "division by zero",
     "output_type": "error",
     "traceback": [
      "\u001b[1;31m---------------------------------------------------------------------------\u001b[0m",
      "\u001b[1;31mZeroDivisionError\u001b[0m                         Traceback (most recent call last)",
      "\u001b[1;32m<ipython-input-5-fad870a50e27>\u001b[0m in \u001b[0;36m<module>\u001b[1;34m\u001b[0m\n\u001b[1;32m----> 1\u001b[1;33m \u001b[0mprint\u001b[0m\u001b[1;33m(\u001b[0m\u001b[1;36m5\u001b[0m\u001b[1;33m/\u001b[0m\u001b[1;36m0\u001b[0m\u001b[1;33m)\u001b[0m\u001b[1;33m\u001b[0m\u001b[1;33m\u001b[0m\u001b[0m\n\u001b[0m",
      "\u001b[1;31mZeroDivisionError\u001b[0m: division by zero"
     ]
    }
   ],
   "source": [
    "print(5/0)"
   ]
  },
  {
   "cell_type": "markdown",
   "id": "6be05791",
   "metadata": {},
   "source": [
    "En général, il y a deux types d'erreurs à surveiller\n",
    "\n",
    "<ul>\n",
    "    <li>Exceptions\n",
    "    <li>Syntaxe\n",
    "</ul>"
   ]
  },
  {
   "cell_type": "markdown",
   "id": "bffafb42",
   "metadata": {},
   "source": [
    "## Le Type booléen"
   ]
  },
  {
   "cell_type": "markdown",
   "id": "2b02464c",
   "metadata": {},
   "source": [
    "Le type de données bool contient l'une des valeurs Trueou False, qui sont souvent codées comme 1ou 0, respectivement.\n",
    "\n",
    "Il y a 6 opérateurs de comparaison qui sont communs à voir pour obtenir une bool valeur :"
   ]
  },
  {
   "cell_type": "markdown",
   "id": "f78912a7",
   "metadata": {},
   "source": [
    "#### Opérateurs de comparaison"
   ]
  },
  {
   "cell_type": "markdown",
   "id": "7ab448b5",
   "metadata": {},
   "source": [
    "<img src=\"assets\\comparaison.png\" />"
   ]
  },
  {
   "cell_type": "markdown",
   "id": "08109622",
   "metadata": {},
   "source": [
    "Et il y a trois opérateurs logiques avec lesquels vous devez vous familiariser :"
   ]
  },
  {
   "cell_type": "markdown",
   "id": "aa61d782",
   "metadata": {},
   "source": [
    "<img src=\"assets\\logique.png\" />"
   ]
  },
  {
   "cell_type": "markdown",
   "id": "72b8a0be",
   "metadata": {},
   "source": [
    "### <span style=\"color:red\">Quiz 2</span>"
   ]
  },
  {
   "cell_type": "markdown",
   "id": "bfd192a9",
   "metadata": {
    "tags": []
   },
   "source": [
    "Essayez les opérateurs de comparaison dans ce quiz ! Ce code calcule les densités de population de Rio de Janeiro et de San Francisco.\n",
    "\n",
    "Écrivez du code pour comparer ces densités. La population de San Francisco est-elle plus dense que celle de Rio de Janeiro ? Imprimez True si c'est le  cas et False sinon."
   ]
  },
  {
   "cell_type": "code",
   "execution_count": 10,
   "id": "f2f1c19d",
   "metadata": {},
   "outputs": [
    {
     "data": {
      "text/plain": [
       "False"
      ]
     },
     "execution_count": 10,
     "metadata": {},
     "output_type": "execute_result"
    }
   ],
   "source": [
    "sf_population, sf_area = 864816, 231.89\n",
    "rio_population, rio_area = 6453682, 486.5\n",
    "\n",
    "san_francisco_pop_density = sf_population/sf_area\n",
    "rio_de_janeiro_pop_density = rio_population/rio_area\n",
    "\n",
    "# Write code that prints True if San Francisco is denser than Rio, and False othe\n",
    "san_francisco_pop_density > rio_de_janeiro_pop_density"
   ]
  },
  {
   "cell_type": "markdown",
   "id": "7b22bb3f",
   "metadata": {
    "tags": []
   },
   "source": [
    "### <span style=\"color:red\">Quiz 3</span>"
   ]
  },
  {
   "cell_type": "markdown",
   "id": "a7ccfc4c",
   "metadata": {
    "tags": []
   },
   "source": [
    "Pourquoi pensez-vous que Python utilise ==pour vérifier l'égalité plutôt que =?"
   ]
  },
  {
   "cell_type": "code",
   "execution_count": 11,
   "id": "92df95e4",
   "metadata": {
    "tags": []
   },
   "outputs": [
    {
     "data": {
      "application/vnd.jupyter.widget-view+json": {
       "model_id": "4491d664f41c4ef3ae3fcd658d52e105",
       "version_major": 2,
       "version_minor": 0
      },
      "text/plain": [
       "VBox(children=(Checkbox(value=False, description=\"Pour qu'il soit long de deux caracères comme !=\"), Checkbox(…"
      ]
     },
     "metadata": {},
     "output_type": "display_data"
    },
    {
     "data": {
      "application/vnd.jupyter.widget-view+json": {
       "model_id": "3ce33b568a374c89bf3058edec0141a8",
       "version_major": 2,
       "version_minor": 0
      },
      "text/plain": [
       "Output()"
      ]
     },
     "metadata": {},
     "output_type": "display_data"
    },
    {
     "data": {
      "application/vnd.jupyter.widget-view+json": {
       "model_id": "a17125624704457e989f09a973022b1d",
       "version_major": 2,
       "version_minor": 0
      },
      "text/plain": [
       "VBox(children=(Button(description='submit', style=ButtonStyle()), Output()))"
      ]
     },
     "metadata": {},
     "output_type": "display_data"
    }
   ],
   "source": [
    "quiz_checkBox(data3,responses3)"
   ]
  },
  {
   "cell_type": "code",
   "execution_count": null,
   "id": "f5a2aa78-4e52-456e-a749-af5050756ab7",
   "metadata": {},
   "outputs": [],
   "source": []
  }
 ],
 "metadata": {
  "kernelspec": {
   "display_name": "Python 3",
   "language": "python",
   "name": "python3"
  },
  "language_info": {
   "codemirror_mode": {
    "name": "ipython",
    "version": 3
   },
   "file_extension": ".py",
   "mimetype": "text/x-python",
   "name": "python",
   "nbconvert_exporter": "python",
   "pygments_lexer": "ipython3",
   "version": "3.8.8"
  }
 },
 "nbformat": 4,
 "nbformat_minor": 5
}
