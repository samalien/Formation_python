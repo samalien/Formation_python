{
 "cells": [
  {
   "cell_type": "markdown",
   "id": "80df6b2f-4c08-4983-804c-f4e6c65c10c8",
   "metadata": {},
   "source": [
    "### TP1 "
   ]
  },
  {
   "cell_type": "code",
   "execution_count": 2,
   "id": "ea37c30d-8b21-4d83-8a76-b20b80f8b7ae",
   "metadata": {
    "tags": []
   },
   "outputs": [],
   "source": [
    "# Étant donné les variables s et t définies comme :\n",
    "s = 'udacity'\n",
    "t = 'bodacious'\n",
    "# écrivez du code Python qui imprime udacious\n",
    "# sans utiliser de guillemets dans\n",
    "# votre code."
   ]
  },
  {
   "cell_type": "markdown",
   "id": "2b5786d1-dadc-4e8f-b0ce-a6ff598e84c4",
   "metadata": {},
   "source": [
    "### TP2 "
   ]
  },
  {
   "cell_type": "code",
   "execution_count": 4,
   "id": "5f64e7be-1b22-43b7-bf9b-b795374161ba",
   "metadata": {},
   "outputs": [],
   "source": [
    "# Insérez les indices de découpage appropriés pour la variable de sous-chaîne\n",
    "# pour que la tranche soit une chaîne qui contient tout après \"A NOUN\".\n",
    "# Par exemple, si nous voulions tout stocker après \"went\", le retour\n",
    "# chaîne serait égale à phrase[11:].\n",
    "\n",
    "sentence = \"A NOUN went on a walk.\"\n",
    "substring = sentence[:]"
   ]
  },
  {
   "cell_type": "markdown",
   "id": "6bc3ac30-f216-436e-beec-113c9ff99451",
   "metadata": {},
   "source": [
    "### TP3"
   ]
  },
  {
   "cell_type": "code",
   "execution_count": 5,
   "id": "0d6d07ee-bc9f-456b-8ee7-9f4eabb0efea",
   "metadata": {},
   "outputs": [],
   "source": [
    "# Utilisez le découpage de chaîne pour stocker tout ce qui précède \"NOUN\" dans la sous-chaîne1,\n",
    "# tout après \"NOUN\" et avant \"VERB\" dans la sous-chaîne2, et tout après \"VERB\"\n",
    "# dans la sous-chaîne3.\n",
    "sentence = \"A NOUN went on a walk. It can VERB really fast.\"\n",
    "substring1 = sentence[:]\n",
    "substring2 = sentence[:]\n",
    "substring3 = sentence[:]"
   ]
  },
  {
   "cell_type": "markdown",
   "id": "107051a7-0861-4d5b-8119-50479e06a2cc",
   "metadata": {},
   "source": [
    "### TP4"
   ]
  },
  {
   "cell_type": "code",
   "execution_count": 7,
   "id": "58870cce-6b2e-4992-bda9-28bb13a839eb",
   "metadata": {},
   "outputs": [],
   "source": [
    "# Définissez noun_replacement et verb_replacement sur vos propres chaînes de nom et de verbe.\n",
    "# Ensuite, concaténez les variables substring1-3, noun_replacement et\n",
    "# verb_replacement et affectez le résultat à la variable new_sentence afin que\n",
    "# c'est dans le même ordre que la variable sentence .\n",
    "sentence = \"A NOUN went on a walk. It can VERB really fast.\"\n",
    "substring1 = sentence[0:2]\n",
    "substring2 = sentence[6:30]\n",
    "substring3 = sentence[34:]\n",
    "\n",
    "noun_replacement = \"\" # your noun here\n",
    "verb_replacement = \"\" # your verb here\n",
    "\n",
    "new_sentence = \"\"\n",
    "# your code here"
   ]
  },
  {
   "cell_type": "markdown",
   "id": "0897c4bf-e543-4980-99c0-9df5513e0b0e",
   "metadata": {},
   "source": [
    "### TP5 "
   ]
  },
  {
   "cell_type": "code",
   "execution_count": null,
   "id": "5ad920da-39fb-4768-a903-b690b4ca24ba",
   "metadata": {},
   "outputs": [],
   "source": [
    "# Mary est une espionne de classe mondiale avec différents pseudonymes à travers le monde.\n",
    "\n",
    "# Mary est connue sous le nom de Randa en Amérique.\n",
    "# Mais en Europe, son alias Randa a un autre alias connu sous le nom de Katie.\n",
    "# En Asie, l'alias Katie a un autre alias connu sous le nom de Salwa.\n",
    "# En Australie, l'alias Salwa est connu sous le nom de Kathleen.\n",
    "# En Amérique du Sud, l'alias Kathleen est connu sous le nom d'alias Gabriel.\n",
    "\n",
    "# Vous êtes vous-même un espion et vous souhaitez pouvoir imprimer le vrai nom associé à\n",
    "# tous ces noms d'alias pour garder une trace de Mary, mais vous savez seulement que\n",
    "# gabriel = kathleen, et kathleen = salwa, etc.\n",
    "\n",
    "# Votre mission : savoir comment chaque alias se rapporte les uns aux autres, affecter les variables\n",
    "# gabriel, kathleen, salwa, katie et randa les uns aux autres donc chaque fois que nous imprimons un alias,\n",
    "# les valeurs de chaque alias pointent vers la chaîne \"Mary\"\n",
    "\n",
    "# REMARQUE : Nous ne pouvons pas simplement affecter toutes les variables à « Marie ».\n",
    "\n",
    "Marie = \"Marie\"\n",
    "# Votre code va ici\n",
    "\n",
    "\n",
    "\n",
    "# En Amérique du Sud, l'alias Kathleen est connu sous le nom d'alias Gabriel, cela signifie que :\n",
    "Gabriel = Kathleen\n",
    "\n",
    "# Testez pour voir si toutes ces variables afficheront la chaîne \"Mary\"\n",
    "print gabriel\n",
    "print kathleen\n",
    "print salwa\n",
    "print katie\n",
    "print randa\n",
    "print mary"
   ]
  },
  {
   "cell_type": "markdown",
   "id": "78d21718-c6b9-4f6b-b979-463379cd6876",
   "metadata": {},
   "source": [
    "### TP6 "
   ]
  },
  {
   "cell_type": "code",
   "execution_count": 8,
   "id": "029800a9-796e-442f-a488-0be35d7514c2",
   "metadata": {},
   "outputs": [
    {
     "ename": "SyntaxError",
     "evalue": "invalid syntax (<ipython-input-8-56e6182eeca4>, line 10)",
     "output_type": "error",
     "traceback": [
      "\u001b[1;36m  File \u001b[1;32m\"<ipython-input-8-56e6182eeca4>\"\u001b[1;36m, line \u001b[1;32m10\u001b[0m\n\u001b[1;33m    noun_position = #fill this in\u001b[0m\n\u001b[1;37m                    ^\u001b[0m\n\u001b[1;31mSyntaxError\u001b[0m\u001b[1;31m:\u001b[0m invalid syntax\n"
     ]
    }
   ],
   "source": [
    "# Utilisez la méthode string.find pour localiser \"NOUN\" et \"VERB\" dans le texte de la chaîne\n",
    "# et stockez ces positions dans les variables noun_position et verb_position respectivement.\n",
    "# Revoyez la vidéo de Dave sur string.find, ou visitez\n",
    "# http://www.tutorialspoint.com/python/string_find.htm pour plus d'informations.\n",
    "text = \"\"\"Wow this is a fairly long body of text. Quite a few characters too.\n",
    "I wonder if the string.find method could help find where NOUN is located.\n",
    "That way, I could go out and VERB with my friends rather than counting characters\n",
    "all day long!\"\"\"\n",
    "\n",
    "noun_position = #fill this in\n",
    "verb_position = #fill this in"
   ]
  },
  {
   "cell_type": "markdown",
   "id": "607129ee-d6cc-4b66-8eac-cd2e01577c13",
   "metadata": {},
   "source": [
    "### TP7 "
   ]
  },
  {
   "cell_type": "code",
   "execution_count": 9,
   "id": "0d7cb5f0-4c6d-47e9-be71-2fce21dea51d",
   "metadata": {},
   "outputs": [],
   "source": [
    "# Supposons que le texte est une variable qui\n",
    "# contient une chaîne. Écrire du code Python\n",
    "# qui imprime la position\n",
    "# de la deuxième occurrence de 'zip'\n",
    "# dans le texte, ou -1 si cela ne se produit pas\n",
    "# au moins deux fois.\n",
    "\n",
    "# Le code Python doit être assez général\n",
    "# pour passer tous les cas possibles où 'zip'\n",
    "# peut apparaître dans une chaîne\n",
    "\n",
    "# Voici deux exemples de cas de test :\n",
    "#text = 'tous les fichiers zip sont compressés'\n",
    "# >>> 18\n",
    "# text = 'tous les fichiers zip sont compressés'\n",
    "# >>> -1\n",
    "\n",
    "text = \"tous les fichiers zip sont compressés\"\n",
    "\n",
    "# ENTRER LE CODE CI-DESSOUS ICI\n",
    "\n",
    "\n",
    "\n",
    "\n",
    "# IMPORTANT AVANT DE SOUMETTRE :\n",
    "# Vous ne devriez avoir qu'une seule commande d'impression dans votre fonction"
   ]
  },
  {
   "cell_type": "markdown",
   "id": "d21ee758-6100-4fe4-9939-1e3c67f4e506",
   "metadata": {},
   "source": [
    "### TP8 "
   ]
  },
  {
   "cell_type": "code",
   "execution_count": 10,
   "id": "e9cc1ccc-c485-487d-8e60-88e8ad511a32",
   "metadata": {},
   "outputs": [
    {
     "ename": "SyntaxError",
     "evalue": "invalid syntax (<ipython-input-10-52537ec75795>, line 6)",
     "output_type": "error",
     "traceback": [
      "\u001b[1;36m  File \u001b[1;32m\"<ipython-input-10-52537ec75795>\"\u001b[1;36m, line \u001b[1;32m6\u001b[0m\n\u001b[1;33m    sentence = #fill this in\u001b[0m\n\u001b[1;37m               ^\u001b[0m\n\u001b[1;31mSyntaxError\u001b[0m\u001b[1;31m:\u001b[0m invalid syntax\n"
     ]
    }
   ],
   "source": [
    "# Let's go over another string method: string.replace. Use this method\n",
    "# to replace the instance of NOUN with \"duck\" and VERB with \"waddle\" in the string\n",
    "# sentence. For more information, visit http://www.tutorialspoint.com/python/string_replace.htm.\n",
    "\n",
    "sentence = \"A NOUN went on a walk. They can VERB really well.\"\n",
    "sentence = #fill this in\n",
    "sentence = #fill this in"
   ]
  }
 ],
 "metadata": {
  "kernelspec": {
   "display_name": "Python 3",
   "language": "python",
   "name": "python3"
  },
  "language_info": {
   "codemirror_mode": {
    "name": "ipython",
    "version": 3
   },
   "file_extension": ".py",
   "mimetype": "text/x-python",
   "name": "python",
   "nbconvert_exporter": "python",
   "pygments_lexer": "ipython3",
   "version": "3.8.8"
  }
 },
 "nbformat": 4,
 "nbformat_minor": 5
}
