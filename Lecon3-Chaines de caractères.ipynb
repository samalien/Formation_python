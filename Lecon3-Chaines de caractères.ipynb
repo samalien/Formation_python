{
 "cells": [
  {
   "cell_type": "code",
   "execution_count": 5,
   "id": "600a9590-14be-4a0d-8180-5d4255067bd2",
   "metadata": {
    "tags": []
   },
   "outputs": [],
   "source": [
    "from fonctions import *"
   ]
  },
  {
   "cell_type": "markdown",
   "id": "43cee4a2-7b85-4e17-b06b-ae2781b761ab",
   "metadata": {},
   "source": [
    "# Les Chaines de caractères"
   ]
  },
  {
   "cell_type": "markdown",
   "id": "94383385-d98c-41f1-bbc3-eb91170fb6cd",
   "metadata": {},
   "source": [
    "Les chaînes en Python sont affichées en tant que type de variable str. Vous pouvez définir une chaîne avec des guillemets doubles \"ou des guillemets simples ' (apostrophes). Si la chaîne que vous créez contient réellement l'une de ces deux valeurs, vous devez faire attention à ce que votre code ne génère pas d'erreur."
   ]
  },
  {
   "cell_type": "code",
   "execution_count": 6,
   "id": "41326664-ac2a-4df5-b047-0c0219856160",
   "metadata": {},
   "outputs": [],
   "source": [
    "my_string = 'this is a string!'\n",
    "my_string2 = \"this is also a string!!!\""
   ]
  },
  {
   "cell_type": "markdown",
   "id": "6e75301c-eec4-4843-9289-b15a822259ac",
   "metadata": {},
   "source": [
    "Vous pouvez également inclure un \\dans votre chaîne pour pouvoir inclure l'un de ces guillemets :"
   ]
  },
  {
   "cell_type": "code",
   "execution_count": 7,
   "id": "bc1d2c7f-a735-468f-9ddf-68846fa0ea64",
   "metadata": {},
   "outputs": [
    {
     "name": "stdout",
     "output_type": "stream",
     "text": [
      "Simon's skateboard is in the garage.\n"
     ]
    }
   ],
   "source": [
    "this_string = 'Simon\\'s skateboard is in the garage.'\n",
    "print(this_string)"
   ]
  },
  {
   "cell_type": "markdown",
   "id": "ec80f232-b79f-429f-9b73-70987f00b66b",
   "metadata": {},
   "source": [
    "Si nous ne l'utilisons pas, notez que nous obtenons l'erreur suivante :"
   ]
  },
  {
   "cell_type": "code",
   "execution_count": 8,
   "id": "dd6d53a2-8bf6-4528-a114-4ec666f734ef",
   "metadata": {},
   "outputs": [
    {
     "ename": "SyntaxError",
     "evalue": "invalid syntax (<ipython-input-8-743762e3cecb>, line 1)",
     "output_type": "error",
     "traceback": [
      "\u001b[1;36m  File \u001b[1;32m\"<ipython-input-8-743762e3cecb>\"\u001b[1;36m, line \u001b[1;32m1\u001b[0m\n\u001b[1;33m    this_string = 'Simon's skateboard is in the garage.'\u001b[0m\n\u001b[1;37m                         ^\u001b[0m\n\u001b[1;31mSyntaxError\u001b[0m\u001b[1;31m:\u001b[0m invalid syntax\n"
     ]
    }
   ],
   "source": [
    "this_string = 'Simon's skateboard is in the garage.'"
   ]
  },
  {
   "cell_type": "markdown",
   "id": "eac7c7d9-f9b9-473e-9e16-8fd7178674cb",
   "metadata": {},
   "source": [
    "La surbrillance de couleur est également une indication de l'erreur que vous avez dans votre chaîne dans ce second cas. Il existe également un certain nombre d'autres opérations que vous pouvez utiliser avec les chaînes"
   ]
  },
  {
   "cell_type": "code",
   "execution_count": 9,
   "id": "5b947aa5-a604-47ce-9b46-e0a80cf7d7c2",
   "metadata": {
    "tags": []
   },
   "outputs": [
    {
     "name": "stdout",
     "output_type": "stream",
     "text": [
      "HelloThere\n"
     ]
    }
   ],
   "source": [
    "first_word = 'Hello'\n",
    "second_word = 'There'\n",
    "print(first_word + second_word)"
   ]
  },
  {
   "cell_type": "code",
   "execution_count": 10,
   "id": "d4be26d9-f58d-4576-9545-83801d6b1b10",
   "metadata": {},
   "outputs": [
    {
     "name": "stdout",
     "output_type": "stream",
     "text": [
      "Hello There\n"
     ]
    }
   ],
   "source": [
    "print(first_word + ' ' + second_word)"
   ]
  },
  {
   "cell_type": "code",
   "execution_count": 11,
   "id": "6bf3652c-88cd-4e60-b877-58f66f964eeb",
   "metadata": {},
   "outputs": [
    {
     "name": "stdout",
     "output_type": "stream",
     "text": [
      "HelloHelloHelloHelloHello\n"
     ]
    }
   ],
   "source": [
    "print(first_word * 5)"
   ]
  },
  {
   "cell_type": "code",
   "execution_count": 12,
   "id": "9a0c86a9-96a8-4110-9aeb-9cb2ec4e9ca0",
   "metadata": {},
   "outputs": [
    {
     "name": "stdout",
     "output_type": "stream",
     "text": [
      "5\n"
     ]
    }
   ],
   "source": [
    "print(len(first_word))"
   ]
  },
  {
   "cell_type": "markdown",
   "id": "b1fa4a9e-b7a8-4bea-a8ef-814dac4f996b",
   "metadata": {},
   "source": [
    "Contrairement aux autres types de données que vous avez vus jusqu'à présent, vous pouvez également indexer dans des chaînes, mais vous en verrez plus bientôt ! Pour l'instant, voici un petit exemple. Notez que Python utilise l'indexation 0 - nous en discuterons plus tard dans cette leçon en détail."
   ]
  },
  {
   "cell_type": "code",
   "execution_count": 13,
   "id": "8180d105-4a3c-4635-92bc-863423b6a795",
   "metadata": {},
   "outputs": [
    {
     "data": {
      "text/plain": [
       "'H'"
      ]
     },
     "execution_count": 13,
     "metadata": {},
     "output_type": "execute_result"
    }
   ],
   "source": [
    "first_word[0]"
   ]
  },
  {
   "cell_type": "code",
   "execution_count": 14,
   "id": "6870dfa6-74a1-48ca-94d1-dc68a16655a1",
   "metadata": {
    "tags": []
   },
   "outputs": [
    {
     "data": {
      "text/plain": [
       "'e'"
      ]
     },
     "execution_count": 14,
     "metadata": {},
     "output_type": "execute_result"
    }
   ],
   "source": [
    "first_word[1]"
   ]
  },
  {
   "cell_type": "markdown",
   "id": "8b04a703-3788-40e6-a5a6-42458537bad7",
   "metadata": {},
   "source": [
    "### <span style=\"color:red\">Quiz 1</span>"
   ]
  },
  {
   "cell_type": "markdown",
   "id": "0b9f0e2e-ceec-4b05-b6d1-d9845c526dc6",
   "metadata": {},
   "source": [
    "Compte tenu de la variable :"
   ]
  },
  {
   "cell_type": "raw",
   "id": "aec13c44-7af1-4820-a4e0-b43b9a3431c9",
   "metadata": {},
   "source": [
    "s = '<any string>'"
   ]
  },
  {
   "cell_type": "markdown",
   "id": "be502b69-d0e7-4cb1-a080-e27336466014",
   "metadata": {},
   "source": [
    "Laquelle de ces paires sont exactement de même valeur?"
   ]
  },
  {
   "cell_type": "code",
   "execution_count": 15,
   "id": "10713cf8-214e-4012-b487-bbc5046f5c2d",
   "metadata": {},
   "outputs": [
    {
     "data": {
      "application/vnd.jupyter.widget-view+json": {
       "model_id": "feab630c39494f36912b3ab271bd235c",
       "version_major": 2,
       "version_minor": 0
      },
      "text/plain": [
       "VBox(children=(Checkbox(value=False, description='s[3], s[1 + 1 + 1]'), Checkbox(value=False, description='s[0…"
      ]
     },
     "metadata": {},
     "output_type": "display_data"
    },
    {
     "data": {
      "application/vnd.jupyter.widget-view+json": {
       "model_id": "bdcfe47858c146d8876c2ec0eadf3897",
       "version_major": 2,
       "version_minor": 0
      },
      "text/plain": [
       "Output()"
      ]
     },
     "metadata": {},
     "output_type": "display_data"
    },
    {
     "data": {
      "application/vnd.jupyter.widget-view+json": {
       "model_id": "64b0c8db055247558d5e899c0459047a",
       "version_major": 2,
       "version_minor": 0
      },
      "text/plain": [
       "VBox(children=(Button(description='submit', style=ButtonStyle()), Output()))"
      ]
     },
     "metadata": {},
     "output_type": "display_data"
    }
   ],
   "source": [
    "quiz_checkBox(data4,responses4)"
   ]
  },
  {
   "cell_type": "markdown",
   "id": "f4c47d90-4b9b-421c-b30f-18eea9be1a14",
   "metadata": {
    "tags": []
   },
   "source": [
    "## Sélection de sous-séquences"
   ]
  },
  {
   "cell_type": "markdown",
   "id": "7e6f1314-e885-4767-93c5-356cec959a86",
   "metadata": {},
   "source": [
    "Pour extraire une sous chaines à partir d'une chaine on peut utiliser la syntaxe suivante:\n",
    "chaine[début : fin]\n",
    "où début et fin représentent respectivement le début de la séquence et sa fin exclus\n",
    "exemple:"
   ]
  },
  {
   "cell_type": "code",
   "execution_count": 16,
   "id": "67b570b2-989c-45ab-ad6d-8d6c5105cd0a",
   "metadata": {},
   "outputs": [
    {
     "name": "stdout",
     "output_type": "stream",
     "text": [
      "mpu\n"
     ]
    }
   ],
   "source": [
    "print(\"computer\"[2:5])"
   ]
  },
  {
   "cell_type": "code",
   "execution_count": 17,
   "id": "918ebf17-b11b-46df-94d5-9d83a7d42600",
   "metadata": {},
   "outputs": [
    {
     "name": "stdout",
     "output_type": "stream",
     "text": [
      "compu\n"
     ]
    }
   ],
   "source": [
    "print(\"computer\"[:5])"
   ]
  },
  {
   "cell_type": "code",
   "execution_count": 18,
   "id": "a1f99267-6c35-4a06-849d-6bb5b4836f38",
   "metadata": {
    "tags": []
   },
   "outputs": [
    {
     "name": "stdout",
     "output_type": "stream",
     "text": [
      "mputer\n"
     ]
    }
   ],
   "source": [
    "print(\"computer\"[2:])"
   ]
  },
  {
   "cell_type": "markdown",
   "id": "0eca4e6b-7e5a-4d81-a5df-0e36e8c053d3",
   "metadata": {},
   "source": [
    "### <span style=\"color:red\">Quiz 2</span>"
   ]
  },
  {
   "cell_type": "code",
   "execution_count": 19,
   "id": "ec1b66c9-eecf-4d3f-a181-f22afe21e05a",
   "metadata": {
    "tags": []
   },
   "outputs": [],
   "source": [
    "# Écrire du code Python qui imprime Udacity (avec un U majuscule),\n",
    "# étant donné la définition de s ci-dessous.\n",
    "s = \"audacity\""
   ]
  },
  {
   "cell_type": "markdown",
   "id": "56789e07-0219-4d76-9a91-ca2a0cc0a999",
   "metadata": {},
   "source": [
    "### <span style=\"color:red\">Quiz 3</span>"
   ]
  },
  {
   "cell_type": "markdown",
   "id": "bb13eb62-6316-4f67-a895-29381a05dbed",
   "metadata": {},
   "source": [
    "Pour toute chaîne ,s"
   ]
  },
  {
   "cell_type": "raw",
   "id": "6852291a-3639-48b5-a2fe-06ff7b9e85f9",
   "metadata": {},
   "source": [
    "s = \"any string\""
   ]
  },
  {
   "cell_type": "markdown",
   "id": "ff92f12c-bf17-4b8a-a5f2-1c5593fbb755",
   "metadata": {},
   "source": [
    "Quelles expressions sont toujours équivalentes à s ?"
   ]
  },
  {
   "cell_type": "code",
   "execution_count": 20,
   "id": "d616d395-5f72-4501-896d-cfafbd277d49",
   "metadata": {},
   "outputs": [
    {
     "data": {
      "application/vnd.jupyter.widget-view+json": {
       "model_id": "1ba8a5b67afc42d89a22c2d235d77447",
       "version_major": 2,
       "version_minor": 0
      },
      "text/plain": [
       "VBox(children=(Checkbox(value=False, description='s[:]'), Checkbox(value=False, description='s + s[0:-1+1]'), …"
      ]
     },
     "metadata": {},
     "output_type": "display_data"
    },
    {
     "data": {
      "application/vnd.jupyter.widget-view+json": {
       "model_id": "3f4e841436a14129a2c37ebb32b6ba79",
       "version_major": 2,
       "version_minor": 0
      },
      "text/plain": [
       "Output()"
      ]
     },
     "metadata": {},
     "output_type": "display_data"
    },
    {
     "data": {
      "application/vnd.jupyter.widget-view+json": {
       "model_id": "5c1107b176ca4249aecb06443b9a16b1",
       "version_major": 2,
       "version_minor": 0
      },
      "text/plain": [
       "VBox(children=(Button(description='submit', style=ButtonStyle()), Output()))"
      ]
     },
     "metadata": {},
     "output_type": "display_data"
    }
   ],
   "source": [
    "quiz_checkBox(data5,responses5)"
   ]
  },
  {
   "cell_type": "markdown",
   "id": "e350327e-7434-4d86-aed1-fa8bc2697a34",
   "metadata": {
    "tags": []
   },
   "source": [
    "## La len()fonction"
   ]
  },
  {
   "cell_type": "markdown",
   "id": "98f3bc9f-56ca-4368-be86-912b51923a6b",
   "metadata": {},
   "source": [
    "len()est une fonction Python intégrée qui renvoie la longueur d'un objet, comme une chaîne. La longueur d'une chaîne est le nombre de caractères de la chaîne. Ce sera toujours un nombre entier.\n",
    "\n",
    "Il y a un exemple ci-dessus, mais en voici un autre :"
   ]
  },
  {
   "cell_type": "code",
   "execution_count": 21,
   "id": "3def1eda-8429-4e1c-8766-14177191b50b",
   "metadata": {},
   "outputs": [
    {
     "name": "stdout",
     "output_type": "stream",
     "text": [
      "2.5\n"
     ]
    }
   ],
   "source": [
    "print(len(\"ababa\") / len(\"ab\"))"
   ]
  },
  {
   "cell_type": "markdown",
   "id": "7221dd17-b3b3-4720-978d-fce96e353cfc",
   "metadata": {},
   "source": [
    "### <span style=\"color:red\">Quiz 4</span>"
   ]
  },
  {
   "cell_type": "markdown",
   "id": "ce6a45cd-2cee-4e34-9952-0d422b98d835",
   "metadata": {},
   "source": [
    "La ligne de code dans le quiz suivant provoquera une SyntaxError, grâce à l'utilisation abusive des guillemets. Exécutez-le d'abord avec Test Run pour afficher le message d'erreur. Résolvez ensuite le problème pour que la citation (de Henry Ford ) soit correctement affectée à la variable ford_quote."
   ]
  },
  {
   "cell_type": "code",
   "execution_count": 22,
   "id": "ff6554e7-5e68-42a0-89d4-f3f5a72a775f",
   "metadata": {},
   "outputs": [
    {
     "ename": "SyntaxError",
     "evalue": "invalid syntax (<ipython-input-22-6ca699a0abd6>, line 2)",
     "output_type": "error",
     "traceback": [
      "\u001b[1;36m  File \u001b[1;32m\"<ipython-input-22-6ca699a0abd6>\"\u001b[1;36m, line \u001b[1;32m2\u001b[0m\n\u001b[1;33m    ford_quote = 'Whether you think you can, or you think you can't--you're ri\u001b[0m\n\u001b[1;37m                                                                  ^\u001b[0m\n\u001b[1;31mSyntaxError\u001b[0m\u001b[1;31m:\u001b[0m invalid syntax\n"
     ]
    }
   ],
   "source": [
    "# TODO: Fix this string!\n",
    "ford_quote = 'Whether you think you can, or you think you can't--you're ri"
   ]
  },
  {
   "cell_type": "markdown",
   "id": "5a731c79-7601-4012-a246-93cfecf4083e",
   "metadata": {},
   "source": [
    "### <span style=\"color:red\">Quiz 5</span> "
   ]
  },
  {
   "cell_type": "markdown",
   "id": "9156cfdf-270e-4fa3-bacd-961c5c534f98",
   "metadata": {},
   "source": [
    "Nous avons déjà vu que le type d'objets affectera la façon dont les opérateurs travaillent sur eux. Quelle sera la sortie de ce code ?"
   ]
  },
  {
   "cell_type": "raw",
   "id": "4df2f0b6-6bb4-4222-9725-c6d0090f2029",
   "metadata": {},
   "source": [
    "coconut_count = \"34\"\n",
    "mango_count = \"15\"\n",
    "tropical_fruit_count = coconut_count + mango_count\n",
    "print(tropical_fruit_count)"
   ]
  },
  {
   "cell_type": "code",
   "execution_count": 23,
   "id": "263a3bb2-ea63-414b-95c6-581da9991b0e",
   "metadata": {},
   "outputs": [
    {
     "data": {
      "application/vnd.jupyter.widget-view+json": {
       "model_id": "33f0e6067bf342619c419caebee0bb28",
       "version_major": 2,
       "version_minor": 0
      },
      "text/plain": [
       "VBox(children=(Output(), RadioButtons(options=(('49 (and tropical_fruit_count is a string)', 0), ('49 (and tro…"
      ]
     },
     "metadata": {},
     "output_type": "display_data"
    }
   ],
   "source": [
    "display(Q1_chaines)"
   ]
  },
  {
   "cell_type": "markdown",
   "id": "a7cc4a2a-e623-4bf5-b9e3-af7472b8d8e2",
   "metadata": {},
   "source": [
    "### <span style=\"color:red\">Quiz 6</span>"
   ]
  },
  {
   "cell_type": "markdown",
   "id": "0eed0d21-a808-430d-8aa3-e355a87e9eec",
   "metadata": {},
   "source": [
    "Dans ce quiz de programmation, vous allez utiliser ce que vous avez appris sur les chaînes pour écrire un message de journalisation pour un serveur.\n",
    "\n",
    "Vous recevrez des exemples de données pour un utilisateur, l'heure de sa visite et le site auquel il a accédé. Vous devez utiliser les variables fournies et les techniques que vous avez apprises pour imprimer un message de journal comme celui-ci (avec le nom d'utilisateur, l'url et l'horodatage remplacés par les valeurs des variables appropriées) :\n",
    "\n",
    "<span style=\" border:1px solid black\">Yogesh accessed the site http://petshop.com/pets/reptiles/pythons at 16:20.</span>\n"
   ]
  },
  {
   "cell_type": "code",
   "execution_count": 24,
   "id": "02b0f8fd-adc1-4f18-9285-242212bf2fc8",
   "metadata": {},
   "outputs": [],
   "source": [
    "username = \"Kinari\"\n",
    "timestamp = \"04:50\"\n",
    "url = \"http://petshop.com/pets/mammals/cats\"\n",
    "\n",
    "# TODO: print a log message using the variables above.\n",
    "# The message should have the same format as this one:\n",
    "# \"Yogesh accessed the site http://petshop.com/pets/reptiles/pythons at 16"
   ]
  },
  {
   "cell_type": "markdown",
   "id": "c1e3d4d3-ec5e-47eb-99f5-696b402c9261",
   "metadata": {},
   "source": [
    "### <span style=\"color:red\">Quiz 7</span>"
   ]
  },
  {
   "cell_type": "markdown",
   "id": "3ee1b5a4-6be3-4b9f-ba2a-abbbfa5914bd",
   "metadata": {},
   "source": [
    "Utilisez la concaténation de chaînes et la len()fonction pour trouver la longueur du nom complet réel d'une certaine star de cinéma. Stockez cette longueur dans la variable name_length . N'oubliez pas qu'il y a des espaces entre les différentes parties d'un nom !"
   ]
  },
  {
   "cell_type": "code",
   "execution_count": 25,
   "id": "a968579e-d1bc-415d-8649-500b76cbd65a",
   "metadata": {},
   "outputs": [
    {
     "ename": "SyntaxError",
     "evalue": "invalid syntax (<ipython-input-25-89bf67ee7d55>, line 5)",
     "output_type": "error",
     "traceback": [
      "\u001b[1;36m  File \u001b[1;32m\"<ipython-input-25-89bf67ee7d55>\"\u001b[1;36m, line \u001b[1;32m5\u001b[0m\n\u001b[1;33m    name_length = #todo: calculate how long this name is\u001b[0m\n\u001b[1;37m                  ^\u001b[0m\n\u001b[1;31mSyntaxError\u001b[0m\u001b[1;31m:\u001b[0m invalid syntax\n"
     ]
    }
   ],
   "source": [
    "given_name = \"William\"\n",
    "middle_names = \"Bradley\"\n",
    "family_name = \"Pitt\"\n",
    "\n",
    "name_length = #todo: calculate how long this name is\n",
    "\n",
    "# Now we check to make sure that the name fits within the driving license character limit\n",
    "# Nothing you need to do here\n",
    "driving_license_character_limit = 28\n",
    "print(name_length <= driving_license_character_lim"
   ]
  },
  {
   "cell_type": "markdown",
   "id": "0204add9-f98b-4c60-82a0-67b36233f2fa",
   "metadata": {},
   "source": [
    "### <span style=\"color:red\">Quiz 8</span>"
   ]
  },
  {
   "cell_type": "code",
   "execution_count": 26,
   "id": "f9a193aa-4cc1-4546-83ec-a3494bf8c14b",
   "metadata": {},
   "outputs": [
    {
     "data": {
      "application/vnd.jupyter.widget-view+json": {
       "model_id": "411b86c8d294448f93ce9e0627566591",
       "version_major": 2,
       "version_minor": 0
      },
      "text/plain": [
       "VBox(children=(Output(), RadioButtons(options=(('835', 0), ('3', 1), ('2', 2), ('Error', 3)), value=0), Button…"
      ]
     },
     "metadata": {},
     "output_type": "display_data"
    }
   ],
   "source": [
    "display(Q2_chaines)"
   ]
  },
  {
   "cell_type": "markdown",
   "id": "2b622288-86fc-4000-b859-b9b7765cb4e6",
   "metadata": {},
   "source": [
    "# Recherche d'une chaînes dans une autre"
   ]
  },
  {
   "cell_type": "markdown",
   "id": "d26998f5-449a-4834-95cc-433e9f0972db",
   "metadata": {},
   "source": [
    "La méthode <strong>find() </strong> recherche la première occurrence de la valeur spécifiée. \n",
    "\n",
    "La méthode find() renvoie -1 si la valeur est introuvable."
   ]
  },
  {
   "cell_type": "markdown",
   "id": "3fdcb228-2c92-4cdb-8cb4-a75779a99376",
   "metadata": {},
   "source": [
    "##### Syntaxe"
   ]
  },
  {
   "cell_type": "markdown",
   "id": "8759e116-9706-496e-a717-ee11c28b4e30",
   "metadata": {},
   "source": [
    "string.find(value, start, end)"
   ]
  },
  {
   "cell_type": "markdown",
   "id": "492a8f84-f41e-4021-a1e7-3dada3e23a2d",
   "metadata": {},
   "source": [
    "#### Exemple "
   ]
  },
  {
   "cell_type": "code",
   "execution_count": 27,
   "id": "ea342058-e846-4fa1-8cf7-7c529868280f",
   "metadata": {},
   "outputs": [
    {
     "name": "stdout",
     "output_type": "stream",
     "text": [
      "7\n",
      "1\n",
      "-1\n"
     ]
    }
   ],
   "source": [
    "txt = \"Hello, welcome to my world.\"\n",
    "\n",
    "x = txt.find(\"welcome\")\n",
    "y = txt.find(\"e\")\n",
    "z = txt.find(\"computer\")\n",
    "\n",
    "print(x)\n",
    "print(y)\n",
    "print(z)"
   ]
  },
  {
   "cell_type": "markdown",
   "id": "499d5473-c806-4509-aad1-7978173c9fdc",
   "metadata": {},
   "source": [
    "### <span style=\"color:red\">Quiz 9</span>"
   ]
  },
  {
   "cell_type": "markdown",
   "id": "c3079aee-d0e9-4e24-ad84-d9a402f7bbc7",
   "metadata": {},
   "source": [
    "Lequel des éléments suivants évalue à -1 ?"
   ]
  },
  {
   "cell_type": "code",
   "execution_count": 28,
   "id": "8437230e-11c0-4a35-9a57-359eba787d78",
   "metadata": {},
   "outputs": [
    {
     "data": {
      "application/vnd.jupyter.widget-view+json": {
       "model_id": "b03c97a0249544fdad0350aa076882d8",
       "version_major": 2,
       "version_minor": 0
      },
      "text/plain": [
       "VBox(children=(Checkbox(value=False, description=\"'test'.find('t')\"), Checkbox(value=False, description=\"'test…"
      ]
     },
     "metadata": {},
     "output_type": "display_data"
    },
    {
     "data": {
      "application/vnd.jupyter.widget-view+json": {
       "model_id": "f0804367318a49799e15693e6fb6461e",
       "version_major": 2,
       "version_minor": 0
      },
      "text/plain": [
       "Output()"
      ]
     },
     "metadata": {},
     "output_type": "display_data"
    },
    {
     "data": {
      "application/vnd.jupyter.widget-view+json": {
       "model_id": "43a3276546e84fd28a08d933a920e506",
       "version_major": 2,
       "version_minor": 0
      },
      "text/plain": [
       "VBox(children=(Button(description='submit', style=ButtonStyle()), Output()))"
      ]
     },
     "metadata": {},
     "output_type": "display_data"
    }
   ],
   "source": [
    "quiz_checkBox(data6,responses6)"
   ]
  },
  {
   "cell_type": "markdown",
   "id": "4c75dfc4-9ff7-4155-81e1-5c1a05b87944",
   "metadata": {},
   "source": [
    "### <span style=\"color:red\">Quiz 10</span>"
   ]
  },
  {
   "cell_type": "markdown",
   "id": "d201cad1-9fd7-437a-b16b-393c3deb75d2",
   "metadata": {},
   "source": [
    "Pour toute chaîne ,s"
   ]
  },
  {
   "cell_type": "markdown",
   "id": "3781c012-c6b4-4f58-a476-604f7b64ece2",
   "metadata": {},
   "source": [
    "Quelles expressions s'évaluent à 0?"
   ]
  },
  {
   "cell_type": "code",
   "execution_count": 29,
   "id": "c13d8da5-16e2-4f09-98c1-3cda72adc2de",
   "metadata": {},
   "outputs": [
    {
     "data": {
      "application/vnd.jupyter.widget-view+json": {
       "model_id": "4081e5d441944129b4a055918411c61c",
       "version_major": 2,
       "version_minor": 0
      },
      "text/plain": [
       "VBox(children=(Checkbox(value=False, description='s.find(s)'), Checkbox(value=False, description=\"s.find('s')\"…"
      ]
     },
     "metadata": {},
     "output_type": "display_data"
    },
    {
     "data": {
      "application/vnd.jupyter.widget-view+json": {
       "model_id": "5ab75f2b05ad431b897629d82dc5fd70",
       "version_major": 2,
       "version_minor": 0
      },
      "text/plain": [
       "Output()"
      ]
     },
     "metadata": {},
     "output_type": "display_data"
    },
    {
     "data": {
      "application/vnd.jupyter.widget-view+json": {
       "model_id": "ae90c9b17b4c4df29141da6effd6d42f",
       "version_major": 2,
       "version_minor": 0
      },
      "text/plain": [
       "VBox(children=(Button(description='submit', style=ButtonStyle()), Output()))"
      ]
     },
     "metadata": {},
     "output_type": "display_data"
    }
   ],
   "source": [
    "quiz_checkBox(data7,responses7)"
   ]
  },
  {
   "cell_type": "markdown",
   "id": "219f0dc3-d0df-47dc-a586-d51cd50f24af",
   "metadata": {},
   "source": [
    "## Entraînez-vous avec string.find()"
   ]
  },
  {
   "cell_type": "code",
   "execution_count": 32,
   "id": "1f5bd8dc-c615-4ba9-83ed-704eb4c21130",
   "metadata": {},
   "outputs": [
    {
     "name": "stdout",
     "output_type": "stream",
     "text": [
      "Example 1: Recherche de sous-chaînes dans une chaîne\n",
      "0\n",
      "2\n",
      "st\n",
      "Example 2: Recherche de sous-chaînes dans une chaîne stockée en tant que variable\n",
      "0\n",
      "2\n",
      "st\n",
      "Example 3: Tout imprimer après une certaine sous-chaîne\n",
      "color: blue\n",
      "blue\n",
      "Example 4: Autres choses intéressantes à propos de string.find()...\n",
      "0\n",
      "-1\n",
      "0\n",
      "-1\n"
     ]
    }
   ],
   "source": [
    "# This segment is just a chance for you to play around with \n",
    "# finding strings within strings. Read through the code and \n",
    "# press Test Run to see what it does. Is there anything \n",
    "# interesting or unexpected?\n",
    "\n",
    "print(\"Example 1: Recherche de sous-chaînes dans une chaîne\")\n",
    "print(\"test\".find(\"te\"))\n",
    "print(\"test\".find(\"st\"))\n",
    "print(\"test\"[2:])\n",
    "\n",
    "print(\"Example 2: Recherche de sous-chaînes dans une chaîne stockée en tant que variable\")\n",
    "my_string = \"test\"\n",
    "print(my_string.find(\"te\"))\n",
    "print(my_string.find(\"st\"))\n",
    "print(my_string[2:])\n",
    "\n",
    "print(\"Example 3: Tout imprimer après une certaine sous-chaîne\")\n",
    "my_string = \"My favorite color: blue\"\n",
    "color_start_location = my_string.find(\"color:\")\n",
    "favorite_color = my_string[color_start_location:]\n",
    "print(favorite_color) # oops, this line prints out 'color: ' as well...\n",
    "print(favorite_color[7:]) # this fixes it!\n",
    "\n",
    "print(\"Example 4: Autres choses intéressantes à propos de string.find()...\")\n",
    "print(\"text\".find(\"text\")) # prints 0\n",
    "print(\"text\".find(\"Text\")) # prints -1\n",
    "print(\"text\".find(\"\"))     # prints 0\n",
    "print(\"text\".find(\" \"))    # prints -1  "
   ]
  },
  {
   "cell_type": "markdown",
   "id": "c090172c-1c2f-4963-9dd8-ed7e65a64a89",
   "metadata": {},
   "source": [
    "## Plus de pratique avec string.find()"
   ]
  },
  {
   "cell_type": "code",
   "execution_count": 36,
   "id": "e2e1e512-940c-4d7c-9335-ab6014109bfd",
   "metadata": {},
   "outputs": [
    {
     "name": "stdout",
     "output_type": "stream",
     "text": [
      "Example 1: utiliser find pour imprimer la deuxième occurrence d'une sous-chaîne\n",
      "0\n",
      "3\n",
      "Example 2: utiliser une variable pour stocker le première occurrence\n",
      "3\n",
      "Example 3: utiliser find pour se débarrasser des points d'exclamation !!\n",
      "Wow Python is great Don't you think?\n",
      "Wow. Python is great. Don't you think?\n"
     ]
    }
   ],
   "source": [
    "# Ce segment est juste une chance pour vous de jouer avec\n",
    "# recherche de chaînes dans des chaînes. Lisez le code et\n",
    "# appuyez sur Test Run pour voir ce qu'il fait. Y a-t-il quelque chose\n",
    "# intéressant ou inattendu ?\n",
    "\n",
    "print(\"Example 1: utiliser find pour imprimer la deuxième occurrence d'une sous-chaîne\")\n",
    "print(\"test\".find(\"t\"))\n",
    "print(\"test\".find(\"t\", 1))\n",
    "\n",
    "print(\"Example 2: utiliser une variable pour stocker le première occurrence\")\n",
    "first_location = \"test\".find(\"t\") # here we store the first location of \"t\"\n",
    "print(\"test\".find(\"t\", first_location+1)) # then we use that location to find the second occurrence.\n",
    "\n",
    "print(\"Example 3: utiliser find pour se débarrasser des points d'exclamation !!\")\n",
    "example = \"Wow! Python is great! Don't you think?\"\n",
    "first = example.find('!')\n",
    "second = example.find('!', first + 1)\n",
    "new_string = example[:first] + example[first+1:second] + example[second+1:]\n",
    "print(new_string) # oops, I should probably replace the !s with periods\n",
    "new_string = example[:first] +'.'+ example[first+1:second] +'.'+ example[second+1:]\n",
    "print(new_string)"
   ]
  }
 ],
 "metadata": {
  "kernelspec": {
   "display_name": "Python 3",
   "language": "python",
   "name": "python3"
  },
  "language_info": {
   "codemirror_mode": {
    "name": "ipython",
    "version": 3
   },
   "file_extension": ".py",
   "mimetype": "text/x-python",
   "name": "python",
   "nbconvert_exporter": "python",
   "pygments_lexer": "ipython3",
   "version": "3.8.8"
  }
 },
 "nbformat": 4,
 "nbformat_minor": 5
}
