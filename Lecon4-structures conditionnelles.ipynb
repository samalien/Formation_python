{
 "cells": [
  {
   "cell_type": "markdown",
   "id": "ada38cd1-6d00-4824-a4f7-4f7c28726793",
   "metadata": {},
   "source": [
    "# Structures conditionnelles"
   ]
  },
  {
   "cell_type": "markdown",
   "id": "b69dd4fa-4508-44f9-89ff-333ffdefd976",
   "metadata": {},
   "source": [
    "###  La conditionnelle Si ... Alors ..."
   ]
  },
  {
   "cell_type": "markdown",
   "id": "039d97fa-601d-4ee9-a0d3-102e87503e59",
   "metadata": {},
   "source": [
    "La conditionnelle permet d’exécuter une séquence d’instruction, seulement si une condition est vraie."
   ]
  },
  {
   "cell_type": "raw",
   "id": "df8a4454-e274-44f1-9f4b-b7a2a66291e8",
   "metadata": {},
   "source": [
    "if condition:\n",
    "    sequence\n",
    "suite"
   ]
  },
  {
   "cell_type": "markdown",
   "id": "4de9df59-5b93-4fb3-84ee-6b2fa4e67052",
   "metadata": {},
   "source": [
    "La condition est nécessairement une expression booléenne."
   ]
  },
  {
   "cell_type": "markdown",
   "id": "40dcaf24-abee-49b9-a69d-a630df7646dd",
   "metadata": {},
   "source": [
    "Évaluation :\n",
    "<ul>\n",
    "<li>la condition est évaluée;\n",
    "<li>si la condition est vraie, la séquence est exécutée puis le contrôle passe à la suite;\n",
    "<li>si la condition est fausse, le contrôle passe à la suite, sans exécuter la séquence."
   ]
  },
  {
   "cell_type": "markdown",
   "id": "bf28810c-6bed-4910-974b-6b2498feb2de",
   "metadata": {},
   "source": [
    "<p style=\"text-align:center\"><img src=\"assets/Organigramme-SiAlors.png\" /></p>"
   ]
  },
  {
   "cell_type": "code",
   "execution_count": 1,
   "id": "5ac5084c-bc6f-4088-86ee-39df80706abc",
   "metadata": {
    "tags": []
   },
   "outputs": [],
   "source": [
    "nombre = -5\n",
    "if nombre >= 0:\n",
    "    print('Bonjour !')"
   ]
  },
  {
   "cell_type": "markdown",
   "id": "21fbecc1-0232-46ec-96eb-bb2d23dd2d61",
   "metadata": {
    "tags": []
   },
   "source": [
    "##### Exercice: \n",
    "Ecrire un programme qui calcule la salaire d'un employé,\n",
    "<ul>\n",
    "<li>salaire net = salaire brut - impots\n",
    "<li>salaire brut = salaire de base + indemnités\n",
    "<li>indemnités = prime de transport + prime de risque\n",
    "<li>seules les ingénieurs bénéficies d'une prime de technicité = 500 dinars\n",
    "    </ul>"
   ]
  },
  {
   "cell_type": "code",
   "execution_count": null,
   "id": "993f982f-1792-459a-ba7e-f220d7cde5df",
   "metadata": {},
   "outputs": [],
   "source": []
  },
  {
   "cell_type": "markdown",
   "id": "83e0f827-26c6-4879-b901-c9906a4cbdaa",
   "metadata": {},
   "source": [
    "### La conditionnelle Si ... Alors ... Sinon ..."
   ]
  },
  {
   "cell_type": "markdown",
   "id": "e5554f1c-b9fa-4607-8aad-e0c4835393c8",
   "metadata": {},
   "source": [
    "La conditionnelle Si...Alors...Sinon... permet de poser une alternative."
   ]
  },
  {
   "cell_type": "raw",
   "id": "59e83c61-7c7b-4be1-97bc-b5f26805d85d",
   "metadata": {},
   "source": [
    "if condition:\n",
    "    sequence1\n",
    "else:\n",
    "    sequence2\n",
    "suite"
   ]
  },
  {
   "cell_type": "markdown",
   "id": "a078ab02-c4ae-46fc-a950-a013a0eccb16",
   "metadata": {},
   "source": [
    "Si la condition est vraie, c’est la séquence1 qui sera exécutée, sinon c’est la séquence2 qui sera exécutée. Dans tous les cas, l’exécution continuera à suite."
   ]
  },
  {
   "cell_type": "markdown",
   "id": "e4e64326-619f-46c9-9c3b-e53b30cb1362",
   "metadata": {},
   "source": [
    "<p style=\"text-align:center\"><img src=\"assets/Organigramme-SiSinon.png\" /></p>"
   ]
  },
  {
   "cell_type": "raw",
   "id": "803eb7ba-10a3-4433-96fb-8587e3feb2d1",
   "metadata": {},
   "source": [
    "\"\"\" renvoie le plus grand des deux nombres \"\"\"\n",
    "if a > b:\n",
    "    print(a, \"est le plus grand\")\n",
    "else:\n",
    "    print(b ,\" est le plus grand\")"
   ]
  },
  {
   "cell_type": "markdown",
   "id": "0fc39438-5e33-49cf-86aa-5004f2634bbe",
   "metadata": {},
   "source": [
    "##### Exercice\n",
    "Définir un programme, <strong>is_friend</strong>, qui prend une chaîne en entrée, et renvoie un booléen indiquant si la chaîne d'entrée est le nom de un ami. Supposons que je sois ami avec tous ceux dont le nom commence par D et personne d'autre. Tu n'as pas besoin de vérifier la minuscule 'd'"
   ]
  },
  {
   "cell_type": "code",
   "execution_count": null,
   "id": "66f5ddc9-70fd-4a90-83f6-4b6c128d1b4e",
   "metadata": {},
   "outputs": [],
   "source": []
  },
  {
   "cell_type": "markdown",
   "id": "7f913772-f1e8-4a77-a0d8-7f1609e56e2c",
   "metadata": {},
   "source": [
    "### Imbrication de Si"
   ]
  },
  {
   "cell_type": "markdown",
   "id": "cbd7a245-adf1-4da0-915c-9585943dbd1f",
   "metadata": {},
   "source": [
    "Naturellement, il est possible d’imbriquer les structures de contrôle conditionnelles les unes à l’intérieur des autres, comme ceci :"
   ]
  },
  {
   "cell_type": "raw",
   "id": "a93815d7-33b3-4d5e-a52b-75376ac0d9df",
   "metadata": {},
   "source": [
    "if condition1:\n",
    "    if condition2:\n",
    "        sequence\n",
    "suite"
   ]
  },
  {
   "cell_type": "markdown",
   "id": "3ff1a76f-64e5-47b7-8a21-143296392f73",
   "metadata": {},
   "source": [
    "Toutefois, on préfèrera l’utilisation d’une conjonction dans la condition (car les opérateurs booléens s’exécutent en court-circuit) :"
   ]
  },
  {
   "cell_type": "raw",
   "id": "b6889da1-2a22-4d83-8e03-69a51620b042",
   "metadata": {},
   "source": [
    "if condition1 and condition2:\n",
    "   sequence\n",
    "suite"
   ]
  },
  {
   "cell_type": "markdown",
   "id": "81e6d889-a776-4eeb-8e4f-c5f1589b811b",
   "metadata": {},
   "source": [
    "### La clause SinonSi"
   ]
  },
  {
   "cell_type": "markdown",
   "id": "dcf62a9e-d4a0-475a-af59-963f091e8dce",
   "metadata": {},
   "source": [
    "On peut ajouter autant de clause SinonSi (elif en Python, contraction de else if) que de conditions à tester si les précédentes ont renvoyé faux."
   ]
  },
  {
   "cell_type": "raw",
   "id": "bad4a520-3a01-437d-addb-6349d11d8885",
   "metadata": {},
   "source": [
    "if condition1:\n",
    "    sequence1\n",
    "elif condition2:\n",
    "    sequence2\n",
    "elif condition3:\n",
    "    sequence3\n",
    "else:\n",
    "    sequence4\n",
    "suite"
   ]
  },
  {
   "cell_type": "markdown",
   "id": "2fc9b117-c9ae-4639-aee8-11d56e8b0016",
   "metadata": {},
   "source": [
    "Évaluation : Les conditions sont évaluées dans l’ordre. Si une condition s’évalue à vraie, la séquence associée est exécutée puis l’exécution continue à suite, sinon la condition suivante est envisagée. La partie else n’est donc exécutée que si aucune des conditions ne s’est évaluée à vrai.\n",
    "\n"
   ]
  },
  {
   "cell_type": "markdown",
   "id": "d634f8ea-2506-41af-a572-6e3dd557e190",
   "metadata": {},
   "source": [
    "<p style=\"text-align:center\"><img style=\"text-align:center; height:300px\" src=\"assets/Organigramme-SiSinonSi.png\" /></p>"
   ]
  },
  {
   "cell_type": "code",
   "execution_count": 2,
   "id": "589c3cbc-5bb9-460d-ae98-beb6ce9dff4f",
   "metadata": {
    "tags": []
   },
   "outputs": [
    {
     "name": "stdout",
     "output_type": "stream",
     "text": [
      "20 est strictement positif\n"
     ]
    }
   ],
   "source": [
    "n=20\n",
    "if n > 0:\n",
    "    print(n, 'est strictement positif')\n",
    "elif n < 0:\n",
    "    print(n, 'est strictement négatif')\n",
    "else:\n",
    "    print(n, 'est nul')"
   ]
  },
  {
   "cell_type": "code",
   "execution_count": 3,
   "id": "c8867257-8599-41ab-be0b-3050a6406992",
   "metadata": {},
   "outputs": [
    {
     "name": "stdout",
     "output_type": "stream",
     "text": [
      "15\n",
      "20\n",
      "15\n"
     ]
    },
    {
     "data": {
      "text/plain": [
       "60"
      ]
     },
     "execution_count": 3,
     "metadata": {},
     "output_type": "execute_result"
    }
   ],
   "source": [
    "def bigger(a,b):\n",
    "    if a<b :\n",
    "        print(a)\n",
    "    else:\n",
    "        print(b)\n",
    "        \n",
    "bigger(20,15)\n",
    "bigger(20,150)\n",
    "bigger(120,15)\n",
    "\n",
    "abs(20)\n",
    "abs(30)\n",
    "abs(60)"
   ]
  }
 ],
 "metadata": {
  "kernelspec": {
   "display_name": "Python 3",
   "language": "python",
   "name": "python3"
  },
  "language_info": {
   "codemirror_mode": {
    "name": "ipython",
    "version": 3
   },
   "file_extension": ".py",
   "mimetype": "text/x-python",
   "name": "python",
   "nbconvert_exporter": "python",
   "pygments_lexer": "ipython3",
   "version": "3.8.8"
  }
 },
 "nbformat": 4,
 "nbformat_minor": 5
}
