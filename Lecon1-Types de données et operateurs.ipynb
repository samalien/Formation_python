{
 "cells": [
  {
   "cell_type": "code",
   "execution_count": 1,
   "id": "d9b143e2",
   "metadata": {
    "jupyter": {
     "source_hidden": true
    },
    "tags": []
   },
   "outputs": [],
   "source": [
    "from fonctions import *"
   ]
  },
  {
   "cell_type": "markdown",
   "id": "6ff87fdf",
   "metadata": {
    "tags": []
   },
   "source": [
    "# Types de données et opérateurs"
   ]
  },
  {
   "cell_type": "markdown",
   "id": "be9f263f",
   "metadata": {
    "tags": []
   },
   "source": [
    "## opérateurs arithmétiques"
   ]
  },
  {
   "cell_type": "markdown",
   "id": "522ebbfa",
   "metadata": {
    "tags": []
   },
   "source": [
    "<span style=\" border:1px solid black\">&nbsp;+&nbsp;</span> Addition<br/>\n",
    "<span style=\" border:1px solid black\">&nbsp;-&nbsp; </span> Subtraction<br/>\n",
    "<span style=\" border:1px solid black\">&nbsp;*&nbsp; </span> Multiplication<br/>\n",
    "<span style=\" border:1px solid black\">&nbsp;/&nbsp; </span> Division<br/>\n",
    "<span style=\" border:1px solid black\">&nbsp;%&nbsp;</span> Mod (le reste de la division)<br/>\n",
    "<span style=\" border:1px solid black\">&nbsp;**&nbsp;</span> puissance <br/>\n",
    "<span style=\" border:1px solid black\">&nbsp;//&nbsp;</span> le quotient de la division entiere<br/>"
   ]
  },
  {
   "cell_type": "markdown",
   "id": "d4e3d397",
   "metadata": {},
   "source": [
    "### <span style=\"color:red\">Quiz 1</span>"
   ]
  },
  {
   "cell_type": "markdown",
   "id": "4acb2055",
   "metadata": {
    "tags": []
   },
   "source": [
    "Il est temps d'essayer un calcul en Python !\n",
    "\n",
    "Mes factures d'électricité pour les trois derniers mois ont été de 23 $, 32 $ et 64 $. Quelle est la facture d'électricité mensuelle moyenne sur la période de trois mois ? Écrivez une expression pour calculer la moyenne et utilisez-la print()pour afficher le résultat."
   ]
  },
  {
   "cell_type": "code",
   "execution_count": 18,
   "id": "8ddc02d2",
   "metadata": {
    "tags": []
   },
   "outputs": [
    {
     "name": "stdout",
     "output_type": "stream",
     "text": [
      "39.666666666666664\n"
     ]
    }
   ],
   "source": [
    "# Ecrire une expression qui calcule la moyenn de  23, 32 and 64\n",
    "# Placez l'expression dans cette instruction print\n",
    "print((23+32+64)/3)"
   ]
  },
  {
   "cell_type": "markdown",
   "id": "ce51e0b0",
   "metadata": {},
   "source": [
    "### <span style=\"color:red\">Quiz 2</span>"
   ]
  },
  {
   "cell_type": "markdown",
   "id": "1791125f",
   "metadata": {
    "tags": []
   },
   "source": [
    "Dans ce quiz, vous allez faire quelques calculs pour un carreleur. Deux parties d'un sol ont besoin de carrelage. Une partie mesure 9 carreaux de large sur 7 carreaux de long , l'autre mesure 5 carreaux de large sur 7 carreaux de long . Les tuiles sont livrées en paquets de 6.\n",
    "<ol>\n",
    "    <li>Combien de tuiles sont nécessaires ?\n",
    "    <li>Vous achetez 17 paquets de tuiles contenant 6 tuiles chacun . Combien de tuiles restera-t-il ?\n",
    "</ol>"
   ]
  },
  {
   "cell_type": "code",
   "execution_count": 20,
   "id": "6a62f45c",
   "metadata": {
    "tags": []
   },
   "outputs": [
    {
     "name": "stdout",
     "output_type": "stream",
     "text": [
      "98\n",
      "4\n"
     ]
    }
   ],
   "source": [
    "# Remplissez ceci avec une expression qui calcule combien de tuiles sont nécessaires\n",
    "print(9*7 + 5*7)\n",
    "\n",
    "# Remplissez-le avec une expression qui calcule le nombre de tuiles restantes.\n",
    "print(17*6 - (9*7 + 5*7))"
   ]
  },
  {
   "cell_type": "markdown",
   "id": "d3c80638",
   "metadata": {},
   "source": [
    "### <span style=\"color:red\">Quiz 3</span>"
   ]
  },
  {
   "cell_type": "code",
   "execution_count": 21,
   "id": "04a391fd",
   "metadata": {
    "tags": []
   },
   "outputs": [
    {
     "name": "stdout",
     "output_type": "stream",
     "text": [
      "70560\n"
     ]
    }
   ],
   "source": [
    "# Écrivez un programme Python qui affiche le nombre de minutes en sept semaines.\n",
    "# Souvenez-vous : 7 semaines 7 jours par semaine, 24 heures par jour et 60 minutes\n",
    "#par heure.\n",
    "# Multiplier ces nombres ensemble vous donnera le résultat\n",
    "print(7*7*24*60)"
   ]
  },
  {
   "cell_type": "markdown",
   "id": "6882d864",
   "metadata": {},
   "source": [
    "### <span style=\"color:red\">Quiz 4</span>"
   ]
  },
  {
   "cell_type": "markdown",
   "id": "f17ccdb3",
   "metadata": {
    "tags": []
   },
   "source": [
    "Lesquelles de ces lignes de code Python sont bien formatées ? Comment amélioreriez-vous la lisibilité des codes qui n'utilisent pas un bon formatage ? (Choisissez tout ce qui correspond)"
   ]
  },
  {
   "cell_type": "code",
   "execution_count": 5,
   "id": "3834364b",
   "metadata": {
    "tags": []
   },
   "outputs": [
    {
     "data": {
      "application/vnd.jupyter.widget-view+json": {
       "model_id": "f62ace2d4b1944ce95f872003d79ba10",
       "version_major": 2,
       "version_minor": 0
      },
      "text/plain": [
       "VBox(children=(Output(), RadioButtons(options=(('Correct', 0), ('Incorrect', 1)), value=0), Button(description…"
      ]
     },
     "metadata": {},
     "output_type": "display_data"
    },
    {
     "data": {
      "application/vnd.jupyter.widget-view+json": {
       "model_id": "f8dddbdbd89d451b9b23de0668efddac",
       "version_major": 2,
       "version_minor": 0
      },
      "text/plain": [
       "VBox(children=(Output(), RadioButtons(options=(('Correct', 0), ('Incorrect', 1)), value=0), Button(description…"
      ]
     },
     "metadata": {},
     "output_type": "display_data"
    },
    {
     "data": {
      "application/vnd.jupyter.widget-view+json": {
       "model_id": "d8f731a7011e41ce98c8e8dbdcd7a418",
       "version_major": 2,
       "version_minor": 0
      },
      "text/plain": [
       "VBox(children=(Output(), RadioButtons(options=(('Correct', 0), ('Incorrect', 1)), value=0), Button(description…"
      ]
     },
     "metadata": {},
     "output_type": "display_data"
    }
   ],
   "source": [
    "display(Q1)\n",
    "display(Q2)\n",
    "display(Q3)"
   ]
  },
  {
   "cell_type": "code",
   "execution_count": 22,
   "id": "40bfef18",
   "metadata": {
    "tags": []
   },
   "outputs": [
    {
     "name": "stdout",
     "output_type": "stream",
     "text": [
      "29.9792458\n"
     ]
    }
   ],
   "source": [
    "# Écrivez du code Python pour afficher la distance parcourue par la lumière\n",
    "# en centimètres en une nanoseconde. Utiliser les valeurs\n",
    "# défini ci-dessous.\n",
    "# speed_of_light = 299792458 mètres par seconde\n",
    "# centimètres = 100 un mètre équivaut à 100 centimètres\n",
    "# nanoseconde = 1.0/1000000000 un milliardième de seconde\n",
    "print(299792458*100/1000000000)"
   ]
  },
  {
   "cell_type": "markdown",
   "id": "44a63433",
   "metadata": {},
   "source": [
    "### Variables"
   ]
  },
  {
   "cell_type": "markdown",
   "id": "2e84a3d0",
   "metadata": {
    "tags": []
   },
   "source": [
    "Les variables sont utilisées tout le temps en Python ! Vous trouverez ci-dessous un exemple où nous avons effectué les opérations suivantes :\n",
    "\n",
    "<span style=\" border:1px solid black\">mv_population = 74728</span>\n",
    "\n",
    "Voici <span style=\" border:1px solid black\">mv_population</span> une variable, qui contient la valeur de 74728. Cela affecte l'élément de droite au nom de gauche, ce qui est en fait un peu différent de l'égalité mathématique, car 74728 ne contient pas la valeur de <span style=\" border:1px solid black\">mv_population</span> .\n",
    "\n",
    "Dans tous les cas, quel que soit le terme qui se trouve sur le côté gauche, est maintenant un nom pour toute valeur se trouvant sur le côté droit. <b><u>Une fois qu'une valeur a été affectée à un nom de variable, vous pouvez accéder à la valeur à partir du nom de variable</u></b>."
   ]
  },
  {
   "cell_type": "markdown",
   "id": "6a241720",
   "metadata": {},
   "source": [
    "les deux suivants sont équivalents en termes d'affectation :"
   ]
  },
  {
   "cell_type": "code",
   "execution_count": 7,
   "id": "42782763",
   "metadata": {},
   "outputs": [],
   "source": [
    "x = 3\n",
    "y = 4\n",
    "z = 5"
   ]
  },
  {
   "cell_type": "code",
   "execution_count": null,
   "id": "8df39187",
   "metadata": {},
   "outputs": [],
   "source": [
    "x, y, z = 3, 4, 5"
   ]
  },
  {
   "cell_type": "markdown",
   "id": "b576e33f",
   "metadata": {},
   "source": [
    "Cependant, ce qui précède n'est pas un excellent moyen d'affecter des variables dans la plupart des cas, car nos noms de variables doivent être descriptifs des valeurs qu'elles contiennent.\n",
    "\n",
    "Outre l'écriture de noms de variables descriptifs, il y a quelques points à surveiller lors de la désignation de variables en Python.\n",
    "\n",
    "1. N'utilisez que des lettres ordinaires, des chiffres et des traits de soulignement dans vos noms de variables. Ils ne peuvent pas contenir d'espaces et doivent commencer par une lettre ou un trait de soulignement.\n",
    "\n",
    "2. Vous ne pouvez pas utiliser les mots réservés de Python , ou \"mots-clés\", comme noms de variables. Il existe des mots réservés dans chaque langage de programmation qui ont des objectifs importants, et vous en apprendrez certains tout au long de ce cours. La création de noms descriptifs des valeurs vous aidera souvent à éviter d'utiliser l'un de ces mots-clés.\n",
    "\n",
    "3. La façon pythonique de nommer les variables consiste à utiliser toutes les lettres minuscules et les traits de soulignement pour séparer les mots."
   ]
  },
  {
   "cell_type": "markdown",
   "id": "5d2c4d64",
   "metadata": {},
   "source": [
    "<strong>OUI</strong>"
   ]
  },
  {
   "cell_type": "raw",
   "id": "8b7415a3",
   "metadata": {},
   "source": [
    "my_height = 58\n",
    "my_lat = 40\n",
    "my_long = 105"
   ]
  },
  {
   "cell_type": "markdown",
   "id": "0d0b2332",
   "metadata": {},
   "source": [
    "<strong>NON</strong>"
   ]
  },
  {
   "cell_type": "code",
   "execution_count": 23,
   "id": "3cda2639-fd4d-4f12-b437-e4530578057b",
   "metadata": {},
   "outputs": [
    {
     "ename": "SyntaxError",
     "evalue": "invalid syntax (<ipython-input-23-30584174f296>, line 1)",
     "output_type": "error",
     "traceback": [
      "\u001b[1;36m  File \u001b[1;32m\"<ipython-input-23-30584174f296>\"\u001b[1;36m, line \u001b[1;32m1\u001b[0m\n\u001b[1;33m    my height = 58\u001b[0m\n\u001b[1;37m       ^\u001b[0m\n\u001b[1;31mSyntaxError\u001b[0m\u001b[1;31m:\u001b[0m invalid syntax\n"
     ]
    }
   ],
   "source": [
    "my height = 58\n",
    "MYLONG = 40\n",
    "MyLat = 105"
   ]
  },
  {
   "cell_type": "markdown",
   "id": "e6f8dfd5",
   "metadata": {},
   "source": [
    "### <span style=\"color:red\">Quiz 5</span>"
   ]
  },
  {
   "cell_type": "markdown",
   "id": "9593370f",
   "metadata": {},
   "source": [
    "Comment la modification de la valeur d'une variable affecte-t-elle une autre variable qui a été définie en fonction de celle-ci ? Regardons un exemple."
   ]
  },
  {
   "cell_type": "raw",
   "id": "e8b28ffc",
   "metadata": {},
   "source": [
    ">>> carrots = 24\n",
    ">>> rabbits = 8\n",
    ">>> crs_per_rab = carrots/rabbits"
   ]
  },
  {
   "cell_type": "markdown",
   "id": "22021970",
   "metadata": {},
   "source": [
    "Maintenant, nous ajoutons une nouvelle 4ème ligne à ce code, qui attribue une nouvelle valeur à la variable rabbits  :"
   ]
  },
  {
   "cell_type": "code",
   "execution_count": 24,
   "id": "b834a4a6",
   "metadata": {
    "tags": []
   },
   "outputs": [],
   "source": [
    ">>> rabbits = 12"
   ]
  },
  {
   "cell_type": "code",
   "execution_count": 25,
   "id": "be8a4622",
   "metadata": {},
   "outputs": [
    {
     "data": {
      "application/vnd.jupyter.widget-view+json": {
       "model_id": "ca54e77e88104233b48bf300f700d6d1",
       "version_major": 2,
       "version_minor": 0
      },
      "text/plain": [
       "VBox(children=(Output(outputs=({'name': 'stdout', 'text': ' Si nous ajoutons maintenant cette nouvelle 5ème li…"
      ]
     },
     "metadata": {},
     "output_type": "display_data"
    }
   ],
   "source": [
    "display(Q4)"
   ]
  },
  {
   "cell_type": "markdown",
   "id": "001e0a7d",
   "metadata": {},
   "source": [
    "### <span style=\"color:red\">Quiz 6</span>"
   ]
  },
  {
   "cell_type": "markdown",
   "id": "cc7c7247",
   "metadata": {},
   "source": [
    "Voici une liste des États américains par ordre de date d'entrée dans l'Union . Supposons que vous vouliez créer une variable pour le Delaware et lui attribuer une valeur pour signifier qu'elle a rejoint l'Union en premier. Parmi les éléments suivants, lesquels sont des noms de variables et des affectations valides en Python ?"
   ]
  },
  {
   "cell_type": "code",
   "execution_count": 11,
   "id": "300731aa",
   "metadata": {
    "tags": []
   },
   "outputs": [
    {
     "data": {
      "application/vnd.jupyter.widget-view+json": {
       "model_id": "83db7c8e27c64839a3de2c65b8026f31",
       "version_major": 2,
       "version_minor": 0
      },
      "text/plain": [
       "VBox(children=(Checkbox(value=False, description='del = 1'), Checkbox(value=False, description='delware = 1'),…"
      ]
     },
     "metadata": {},
     "output_type": "display_data"
    },
    {
     "data": {
      "application/vnd.jupyter.widget-view+json": {
       "model_id": "503d3c73a86e451f8d1a2eb62cc9d2d8",
       "version_major": 2,
       "version_minor": 0
      },
      "text/plain": [
       "Output()"
      ]
     },
     "metadata": {},
     "output_type": "display_data"
    },
    {
     "data": {
      "application/vnd.jupyter.widget-view+json": {
       "model_id": "7ad4da4269864a43bdca89981d5462e4",
       "version_major": 2,
       "version_minor": 0
      },
      "text/plain": [
       "VBox(children=(Button(description='submit', style=ButtonStyle()), Output()))"
      ]
     },
     "metadata": {},
     "output_type": "display_data"
    }
   ],
   "source": [
    "quiz_checkBox(data,responses)"
   ]
  }
 ],
 "metadata": {
  "kernelspec": {
   "display_name": "Python 3",
   "language": "python",
   "name": "python3"
  },
  "language_info": {
   "codemirror_mode": {
    "name": "ipython",
    "version": 3
   },
   "file_extension": ".py",
   "mimetype": "text/x-python",
   "name": "python",
   "nbconvert_exporter": "python",
   "pygments_lexer": "ipython3",
   "version": "3.8.8"
  }
 },
 "nbformat": 4,
 "nbformat_minor": 5
}
